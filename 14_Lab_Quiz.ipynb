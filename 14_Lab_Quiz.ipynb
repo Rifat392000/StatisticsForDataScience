{
  "nbformat": 4,
  "nbformat_minor": 0,
  "metadata": {
    "colab": {
      "provenance": []
    },
    "kernelspec": {
      "name": "python3",
      "display_name": "Python 3"
    },
    "language_info": {
      "name": "python"
    }
  },
  "cells": [
    {
      "cell_type": "code",
      "execution_count": null,
      "metadata": {
        "id": "EkQJtpCmTBpH"
      },
      "outputs": [],
      "source": [
        "import pandas as pd\n",
        "import numpy as np"
      ]
    },
    {
      "cell_type": "markdown",
      "source": [
        "1. Read the dataset to a data frame"
      ],
      "metadata": {
        "id": "ml6BSeIYUOXl"
      }
    },
    {
      "cell_type": "code",
      "source": [
        "df = pd.read_csv(\"/content/drive/MyDrive/surveys.csv\")\n",
        "df"
      ],
      "metadata": {
        "colab": {
          "base_uri": "https://localhost:8080/",
          "height": 488
        },
        "id": "buVGlTpoTR-U",
        "outputId": "47322b63-9d13-4de0-a138-1df05b092c20"
      },
      "execution_count": null,
      "outputs": [
        {
          "output_type": "execute_result",
          "data": {
            "text/plain": [
              "       record_id  month  day  year  plot_id species_id  sex  hindfoot_length  \\\n",
              "0              1      7   16  1977        2         NL    M             32.0   \n",
              "1              2      7   16  1977        3         NL    M             33.0   \n",
              "2              3      7   16  1977        2         DM    F             37.0   \n",
              "3              4      7   16  1977        7         DM    M             36.0   \n",
              "4              5      7   16  1977        3         DM    M             35.0   \n",
              "...          ...    ...  ...   ...      ...        ...  ...              ...   \n",
              "35544      35545     12   31  2002       15         AH  NaN              NaN   \n",
              "35545      35546     12   31  2002       15         AH  NaN              NaN   \n",
              "35546      35547     12   31  2002       10         RM    F             15.0   \n",
              "35547      35548     12   31  2002        7         DO    M             36.0   \n",
              "35548      35549     12   31  2002        5        NaN  NaN              NaN   \n",
              "\n",
              "       weight  \n",
              "0         NaN  \n",
              "1         NaN  \n",
              "2         NaN  \n",
              "3         NaN  \n",
              "4         NaN  \n",
              "...       ...  \n",
              "35544     NaN  \n",
              "35545     NaN  \n",
              "35546    14.0  \n",
              "35547    51.0  \n",
              "35548     NaN  \n",
              "\n",
              "[35549 rows x 9 columns]"
            ],
            "text/html": [
              "\n",
              "  <div id=\"df-149074f7-05ef-4483-a024-b62e4553435d\">\n",
              "    <div class=\"colab-df-container\">\n",
              "      <div>\n",
              "<style scoped>\n",
              "    .dataframe tbody tr th:only-of-type {\n",
              "        vertical-align: middle;\n",
              "    }\n",
              "\n",
              "    .dataframe tbody tr th {\n",
              "        vertical-align: top;\n",
              "    }\n",
              "\n",
              "    .dataframe thead th {\n",
              "        text-align: right;\n",
              "    }\n",
              "</style>\n",
              "<table border=\"1\" class=\"dataframe\">\n",
              "  <thead>\n",
              "    <tr style=\"text-align: right;\">\n",
              "      <th></th>\n",
              "      <th>record_id</th>\n",
              "      <th>month</th>\n",
              "      <th>day</th>\n",
              "      <th>year</th>\n",
              "      <th>plot_id</th>\n",
              "      <th>species_id</th>\n",
              "      <th>sex</th>\n",
              "      <th>hindfoot_length</th>\n",
              "      <th>weight</th>\n",
              "    </tr>\n",
              "  </thead>\n",
              "  <tbody>\n",
              "    <tr>\n",
              "      <th>0</th>\n",
              "      <td>1</td>\n",
              "      <td>7</td>\n",
              "      <td>16</td>\n",
              "      <td>1977</td>\n",
              "      <td>2</td>\n",
              "      <td>NL</td>\n",
              "      <td>M</td>\n",
              "      <td>32.0</td>\n",
              "      <td>NaN</td>\n",
              "    </tr>\n",
              "    <tr>\n",
              "      <th>1</th>\n",
              "      <td>2</td>\n",
              "      <td>7</td>\n",
              "      <td>16</td>\n",
              "      <td>1977</td>\n",
              "      <td>3</td>\n",
              "      <td>NL</td>\n",
              "      <td>M</td>\n",
              "      <td>33.0</td>\n",
              "      <td>NaN</td>\n",
              "    </tr>\n",
              "    <tr>\n",
              "      <th>2</th>\n",
              "      <td>3</td>\n",
              "      <td>7</td>\n",
              "      <td>16</td>\n",
              "      <td>1977</td>\n",
              "      <td>2</td>\n",
              "      <td>DM</td>\n",
              "      <td>F</td>\n",
              "      <td>37.0</td>\n",
              "      <td>NaN</td>\n",
              "    </tr>\n",
              "    <tr>\n",
              "      <th>3</th>\n",
              "      <td>4</td>\n",
              "      <td>7</td>\n",
              "      <td>16</td>\n",
              "      <td>1977</td>\n",
              "      <td>7</td>\n",
              "      <td>DM</td>\n",
              "      <td>M</td>\n",
              "      <td>36.0</td>\n",
              "      <td>NaN</td>\n",
              "    </tr>\n",
              "    <tr>\n",
              "      <th>4</th>\n",
              "      <td>5</td>\n",
              "      <td>7</td>\n",
              "      <td>16</td>\n",
              "      <td>1977</td>\n",
              "      <td>3</td>\n",
              "      <td>DM</td>\n",
              "      <td>M</td>\n",
              "      <td>35.0</td>\n",
              "      <td>NaN</td>\n",
              "    </tr>\n",
              "    <tr>\n",
              "      <th>...</th>\n",
              "      <td>...</td>\n",
              "      <td>...</td>\n",
              "      <td>...</td>\n",
              "      <td>...</td>\n",
              "      <td>...</td>\n",
              "      <td>...</td>\n",
              "      <td>...</td>\n",
              "      <td>...</td>\n",
              "      <td>...</td>\n",
              "    </tr>\n",
              "    <tr>\n",
              "      <th>35544</th>\n",
              "      <td>35545</td>\n",
              "      <td>12</td>\n",
              "      <td>31</td>\n",
              "      <td>2002</td>\n",
              "      <td>15</td>\n",
              "      <td>AH</td>\n",
              "      <td>NaN</td>\n",
              "      <td>NaN</td>\n",
              "      <td>NaN</td>\n",
              "    </tr>\n",
              "    <tr>\n",
              "      <th>35545</th>\n",
              "      <td>35546</td>\n",
              "      <td>12</td>\n",
              "      <td>31</td>\n",
              "      <td>2002</td>\n",
              "      <td>15</td>\n",
              "      <td>AH</td>\n",
              "      <td>NaN</td>\n",
              "      <td>NaN</td>\n",
              "      <td>NaN</td>\n",
              "    </tr>\n",
              "    <tr>\n",
              "      <th>35546</th>\n",
              "      <td>35547</td>\n",
              "      <td>12</td>\n",
              "      <td>31</td>\n",
              "      <td>2002</td>\n",
              "      <td>10</td>\n",
              "      <td>RM</td>\n",
              "      <td>F</td>\n",
              "      <td>15.0</td>\n",
              "      <td>14.0</td>\n",
              "    </tr>\n",
              "    <tr>\n",
              "      <th>35547</th>\n",
              "      <td>35548</td>\n",
              "      <td>12</td>\n",
              "      <td>31</td>\n",
              "      <td>2002</td>\n",
              "      <td>7</td>\n",
              "      <td>DO</td>\n",
              "      <td>M</td>\n",
              "      <td>36.0</td>\n",
              "      <td>51.0</td>\n",
              "    </tr>\n",
              "    <tr>\n",
              "      <th>35548</th>\n",
              "      <td>35549</td>\n",
              "      <td>12</td>\n",
              "      <td>31</td>\n",
              "      <td>2002</td>\n",
              "      <td>5</td>\n",
              "      <td>NaN</td>\n",
              "      <td>NaN</td>\n",
              "      <td>NaN</td>\n",
              "      <td>NaN</td>\n",
              "    </tr>\n",
              "  </tbody>\n",
              "</table>\n",
              "<p>35549 rows × 9 columns</p>\n",
              "</div>\n",
              "      <button class=\"colab-df-convert\" onclick=\"convertToInteractive('df-149074f7-05ef-4483-a024-b62e4553435d')\"\n",
              "              title=\"Convert this dataframe to an interactive table.\"\n",
              "              style=\"display:none;\">\n",
              "        \n",
              "  <svg xmlns=\"http://www.w3.org/2000/svg\" height=\"24px\"viewBox=\"0 0 24 24\"\n",
              "       width=\"24px\">\n",
              "    <path d=\"M0 0h24v24H0V0z\" fill=\"none\"/>\n",
              "    <path d=\"M18.56 5.44l.94 2.06.94-2.06 2.06-.94-2.06-.94-.94-2.06-.94 2.06-2.06.94zm-11 1L8.5 8.5l.94-2.06 2.06-.94-2.06-.94L8.5 2.5l-.94 2.06-2.06.94zm10 10l.94 2.06.94-2.06 2.06-.94-2.06-.94-.94-2.06-.94 2.06-2.06.94z\"/><path d=\"M17.41 7.96l-1.37-1.37c-.4-.4-.92-.59-1.43-.59-.52 0-1.04.2-1.43.59L10.3 9.45l-7.72 7.72c-.78.78-.78 2.05 0 2.83L4 21.41c.39.39.9.59 1.41.59.51 0 1.02-.2 1.41-.59l7.78-7.78 2.81-2.81c.8-.78.8-2.07 0-2.86zM5.41 20L4 18.59l7.72-7.72 1.47 1.35L5.41 20z\"/>\n",
              "  </svg>\n",
              "      </button>\n",
              "      \n",
              "  <style>\n",
              "    .colab-df-container {\n",
              "      display:flex;\n",
              "      flex-wrap:wrap;\n",
              "      gap: 12px;\n",
              "    }\n",
              "\n",
              "    .colab-df-convert {\n",
              "      background-color: #E8F0FE;\n",
              "      border: none;\n",
              "      border-radius: 50%;\n",
              "      cursor: pointer;\n",
              "      display: none;\n",
              "      fill: #1967D2;\n",
              "      height: 32px;\n",
              "      padding: 0 0 0 0;\n",
              "      width: 32px;\n",
              "    }\n",
              "\n",
              "    .colab-df-convert:hover {\n",
              "      background-color: #E2EBFA;\n",
              "      box-shadow: 0px 1px 2px rgba(60, 64, 67, 0.3), 0px 1px 3px 1px rgba(60, 64, 67, 0.15);\n",
              "      fill: #174EA6;\n",
              "    }\n",
              "\n",
              "    [theme=dark] .colab-df-convert {\n",
              "      background-color: #3B4455;\n",
              "      fill: #D2E3FC;\n",
              "    }\n",
              "\n",
              "    [theme=dark] .colab-df-convert:hover {\n",
              "      background-color: #434B5C;\n",
              "      box-shadow: 0px 1px 3px 1px rgba(0, 0, 0, 0.15);\n",
              "      filter: drop-shadow(0px 1px 2px rgba(0, 0, 0, 0.3));\n",
              "      fill: #FFFFFF;\n",
              "    }\n",
              "  </style>\n",
              "\n",
              "      <script>\n",
              "        const buttonEl =\n",
              "          document.querySelector('#df-149074f7-05ef-4483-a024-b62e4553435d button.colab-df-convert');\n",
              "        buttonEl.style.display =\n",
              "          google.colab.kernel.accessAllowed ? 'block' : 'none';\n",
              "\n",
              "        async function convertToInteractive(key) {\n",
              "          const element = document.querySelector('#df-149074f7-05ef-4483-a024-b62e4553435d');\n",
              "          const dataTable =\n",
              "            await google.colab.kernel.invokeFunction('convertToInteractive',\n",
              "                                                     [key], {});\n",
              "          if (!dataTable) return;\n",
              "\n",
              "          const docLinkHtml = 'Like what you see? Visit the ' +\n",
              "            '<a target=\"_blank\" href=https://colab.research.google.com/notebooks/data_table.ipynb>data table notebook</a>'\n",
              "            + ' to learn more about interactive tables.';\n",
              "          element.innerHTML = '';\n",
              "          dataTable['output_type'] = 'display_data';\n",
              "          await google.colab.output.renderOutput(dataTable, element);\n",
              "          const docLink = document.createElement('div');\n",
              "          docLink.innerHTML = docLinkHtml;\n",
              "          element.appendChild(docLink);\n",
              "        }\n",
              "      </script>\n",
              "    </div>\n",
              "  </div>\n",
              "  "
            ]
          },
          "metadata": {},
          "execution_count": 46
        }
      ]
    },
    {
      "cell_type": "markdown",
      "source": [
        "2. Show the column names"
      ],
      "metadata": {
        "id": "A9pv3VTIUYFP"
      }
    },
    {
      "cell_type": "code",
      "source": [
        "df.columns"
      ],
      "metadata": {
        "id": "rkqwLZwLUcQd",
        "colab": {
          "base_uri": "https://localhost:8080/"
        },
        "outputId": "e5f68b0d-1d83-4b9b-f194-1ae20fa6b21c"
      },
      "execution_count": null,
      "outputs": [
        {
          "output_type": "execute_result",
          "data": {
            "text/plain": [
              "Index(['record_id', 'month', 'day', 'year', 'plot_id', 'species_id', 'sex',\n",
              "       'hindfoot_length', 'weight'],\n",
              "      dtype='object')"
            ]
          },
          "metadata": {},
          "execution_count": 47
        }
      ]
    },
    {
      "cell_type": "markdown",
      "source": [
        "3.Show the datatype of each column"
      ],
      "metadata": {
        "id": "LeZnQdWSJXIJ"
      }
    },
    {
      "cell_type": "code",
      "source": [
        "df.dtypes"
      ],
      "metadata": {
        "colab": {
          "base_uri": "https://localhost:8080/"
        },
        "id": "RCjEArUiJSJS",
        "outputId": "9713c470-9d30-4cef-b1b6-a0c5ad6ceca8"
      },
      "execution_count": null,
      "outputs": [
        {
          "output_type": "execute_result",
          "data": {
            "text/plain": [
              "record_id            int64\n",
              "month                int64\n",
              "day                  int64\n",
              "year                 int64\n",
              "plot_id              int64\n",
              "species_id          object\n",
              "sex                 object\n",
              "hindfoot_length    float64\n",
              "weight             float64\n",
              "dtype: object"
            ]
          },
          "metadata": {},
          "execution_count": 48
        }
      ]
    },
    {
      "cell_type": "markdown",
      "source": [
        "4. Show the size (number of rows and columns) of the data frame"
      ],
      "metadata": {
        "id": "AagpFrWFKBkR"
      }
    },
    {
      "cell_type": "code",
      "source": [
        "df.shape"
      ],
      "metadata": {
        "colab": {
          "base_uri": "https://localhost:8080/"
        },
        "id": "KqPL3T8tKEUf",
        "outputId": "45f0a089-664a-417f-a7e7-54443d365f63"
      },
      "execution_count": null,
      "outputs": [
        {
          "output_type": "execute_result",
          "data": {
            "text/plain": [
              "(35549, 9)"
            ]
          },
          "metadata": {},
          "execution_count": 49
        }
      ]
    },
    {
      "cell_type": "markdown",
      "source": [
        "5. Show the unique values of species_id column"
      ],
      "metadata": {
        "id": "tPDioH_JKL7i"
      }
    },
    {
      "cell_type": "code",
      "source": [
        "df['species_id'].unique()"
      ],
      "metadata": {
        "id": "QlmAaPPMKPRn",
        "colab": {
          "base_uri": "https://localhost:8080/"
        },
        "outputId": "a8633563-fe8a-415f-9500-8dcb34e30e20"
      },
      "execution_count": null,
      "outputs": [
        {
          "output_type": "execute_result",
          "data": {
            "text/plain": [
              "array(['NL', 'DM', 'PF', 'PE', 'DS', 'PP', 'SH', 'OT', 'DO', 'OX', 'SS',\n",
              "       'OL', 'RM', nan, 'SA', 'PM', 'AH', 'DX', 'AB', 'CB', 'CM', 'CQ',\n",
              "       'RF', 'PC', 'PG', 'PH', 'PU', 'CV', 'UR', 'UP', 'ZL', 'UL', 'CS',\n",
              "       'SC', 'BA', 'SF', 'RO', 'AS', 'SO', 'PI', 'ST', 'CU', 'SU', 'RX',\n",
              "       'PB', 'PL', 'PX', 'CT', 'US'], dtype=object)"
            ]
          },
          "metadata": {},
          "execution_count": 50
        }
      ]
    },
    {
      "cell_type": "markdown",
      "source": [
        "6. Show the statistical information (count, mean, std, min, max and so on) of the weight column"
      ],
      "metadata": {
        "id": "UMA-5mUcKx_N"
      }
    },
    {
      "cell_type": "code",
      "source": [
        "df_temp=df[['weight']]\n",
        "df_temp.describe()"
      ],
      "metadata": {
        "colab": {
          "base_uri": "https://localhost:8080/",
          "height": 300
        },
        "id": "iduVY8g9K1J5",
        "outputId": "2bf78c44-0063-48be-bb3d-1abdeb0edd50"
      },
      "execution_count": null,
      "outputs": [
        {
          "output_type": "execute_result",
          "data": {
            "text/plain": [
              "             weight\n",
              "count  32283.000000\n",
              "mean      42.672428\n",
              "std       36.631259\n",
              "min        4.000000\n",
              "25%       20.000000\n",
              "50%       37.000000\n",
              "75%       48.000000\n",
              "max      280.000000"
            ],
            "text/html": [
              "\n",
              "  <div id=\"df-66f95bf4-aa5c-4679-a95e-d3b5e6698b58\">\n",
              "    <div class=\"colab-df-container\">\n",
              "      <div>\n",
              "<style scoped>\n",
              "    .dataframe tbody tr th:only-of-type {\n",
              "        vertical-align: middle;\n",
              "    }\n",
              "\n",
              "    .dataframe tbody tr th {\n",
              "        vertical-align: top;\n",
              "    }\n",
              "\n",
              "    .dataframe thead th {\n",
              "        text-align: right;\n",
              "    }\n",
              "</style>\n",
              "<table border=\"1\" class=\"dataframe\">\n",
              "  <thead>\n",
              "    <tr style=\"text-align: right;\">\n",
              "      <th></th>\n",
              "      <th>weight</th>\n",
              "    </tr>\n",
              "  </thead>\n",
              "  <tbody>\n",
              "    <tr>\n",
              "      <th>count</th>\n",
              "      <td>32283.000000</td>\n",
              "    </tr>\n",
              "    <tr>\n",
              "      <th>mean</th>\n",
              "      <td>42.672428</td>\n",
              "    </tr>\n",
              "    <tr>\n",
              "      <th>std</th>\n",
              "      <td>36.631259</td>\n",
              "    </tr>\n",
              "    <tr>\n",
              "      <th>min</th>\n",
              "      <td>4.000000</td>\n",
              "    </tr>\n",
              "    <tr>\n",
              "      <th>25%</th>\n",
              "      <td>20.000000</td>\n",
              "    </tr>\n",
              "    <tr>\n",
              "      <th>50%</th>\n",
              "      <td>37.000000</td>\n",
              "    </tr>\n",
              "    <tr>\n",
              "      <th>75%</th>\n",
              "      <td>48.000000</td>\n",
              "    </tr>\n",
              "    <tr>\n",
              "      <th>max</th>\n",
              "      <td>280.000000</td>\n",
              "    </tr>\n",
              "  </tbody>\n",
              "</table>\n",
              "</div>\n",
              "      <button class=\"colab-df-convert\" onclick=\"convertToInteractive('df-66f95bf4-aa5c-4679-a95e-d3b5e6698b58')\"\n",
              "              title=\"Convert this dataframe to an interactive table.\"\n",
              "              style=\"display:none;\">\n",
              "        \n",
              "  <svg xmlns=\"http://www.w3.org/2000/svg\" height=\"24px\"viewBox=\"0 0 24 24\"\n",
              "       width=\"24px\">\n",
              "    <path d=\"M0 0h24v24H0V0z\" fill=\"none\"/>\n",
              "    <path d=\"M18.56 5.44l.94 2.06.94-2.06 2.06-.94-2.06-.94-.94-2.06-.94 2.06-2.06.94zm-11 1L8.5 8.5l.94-2.06 2.06-.94-2.06-.94L8.5 2.5l-.94 2.06-2.06.94zm10 10l.94 2.06.94-2.06 2.06-.94-2.06-.94-.94-2.06-.94 2.06-2.06.94z\"/><path d=\"M17.41 7.96l-1.37-1.37c-.4-.4-.92-.59-1.43-.59-.52 0-1.04.2-1.43.59L10.3 9.45l-7.72 7.72c-.78.78-.78 2.05 0 2.83L4 21.41c.39.39.9.59 1.41.59.51 0 1.02-.2 1.41-.59l7.78-7.78 2.81-2.81c.8-.78.8-2.07 0-2.86zM5.41 20L4 18.59l7.72-7.72 1.47 1.35L5.41 20z\"/>\n",
              "  </svg>\n",
              "      </button>\n",
              "      \n",
              "  <style>\n",
              "    .colab-df-container {\n",
              "      display:flex;\n",
              "      flex-wrap:wrap;\n",
              "      gap: 12px;\n",
              "    }\n",
              "\n",
              "    .colab-df-convert {\n",
              "      background-color: #E8F0FE;\n",
              "      border: none;\n",
              "      border-radius: 50%;\n",
              "      cursor: pointer;\n",
              "      display: none;\n",
              "      fill: #1967D2;\n",
              "      height: 32px;\n",
              "      padding: 0 0 0 0;\n",
              "      width: 32px;\n",
              "    }\n",
              "\n",
              "    .colab-df-convert:hover {\n",
              "      background-color: #E2EBFA;\n",
              "      box-shadow: 0px 1px 2px rgba(60, 64, 67, 0.3), 0px 1px 3px 1px rgba(60, 64, 67, 0.15);\n",
              "      fill: #174EA6;\n",
              "    }\n",
              "\n",
              "    [theme=dark] .colab-df-convert {\n",
              "      background-color: #3B4455;\n",
              "      fill: #D2E3FC;\n",
              "    }\n",
              "\n",
              "    [theme=dark] .colab-df-convert:hover {\n",
              "      background-color: #434B5C;\n",
              "      box-shadow: 0px 1px 3px 1px rgba(0, 0, 0, 0.15);\n",
              "      filter: drop-shadow(0px 1px 2px rgba(0, 0, 0, 0.3));\n",
              "      fill: #FFFFFF;\n",
              "    }\n",
              "  </style>\n",
              "\n",
              "      <script>\n",
              "        const buttonEl =\n",
              "          document.querySelector('#df-66f95bf4-aa5c-4679-a95e-d3b5e6698b58 button.colab-df-convert');\n",
              "        buttonEl.style.display =\n",
              "          google.colab.kernel.accessAllowed ? 'block' : 'none';\n",
              "\n",
              "        async function convertToInteractive(key) {\n",
              "          const element = document.querySelector('#df-66f95bf4-aa5c-4679-a95e-d3b5e6698b58');\n",
              "          const dataTable =\n",
              "            await google.colab.kernel.invokeFunction('convertToInteractive',\n",
              "                                                     [key], {});\n",
              "          if (!dataTable) return;\n",
              "\n",
              "          const docLinkHtml = 'Like what you see? Visit the ' +\n",
              "            '<a target=\"_blank\" href=https://colab.research.google.com/notebooks/data_table.ipynb>data table notebook</a>'\n",
              "            + ' to learn more about interactive tables.';\n",
              "          element.innerHTML = '';\n",
              "          dataTable['output_type'] = 'display_data';\n",
              "          await google.colab.output.renderOutput(dataTable, element);\n",
              "          const docLink = document.createElement('div');\n",
              "          docLink.innerHTML = docLinkHtml;\n",
              "          element.appendChild(docLink);\n",
              "        }\n",
              "      </script>\n",
              "    </div>\n",
              "  </div>\n",
              "  "
            ]
          },
          "metadata": {},
          "execution_count": 51
        }
      ]
    },
    {
      "cell_type": "markdown",
      "source": [
        "7. Create a new data frame that is grouped based on the sex column"
      ],
      "metadata": {
        "id": "sFm-jtd2LLLa"
      }
    },
    {
      "cell_type": "code",
      "source": [
        "df1=df.groupby(['sex'])\n",
        "print(df1)"
      ],
      "metadata": {
        "colab": {
          "base_uri": "https://localhost:8080/"
        },
        "id": "SjOHFs8ILOKN",
        "outputId": "3199ae34-edd1-44c7-90a3-a1cd7e9c95ea"
      },
      "execution_count": null,
      "outputs": [
        {
          "output_type": "stream",
          "name": "stdout",
          "text": [
            "<pandas.core.groupby.generic.DataFrameGroupBy object at 0x7f34496e00d0>\n"
          ]
        }
      ]
    },
    {
      "cell_type": "markdown",
      "source": [
        "8. Show how many recorded individuals are female F and how many male M."
      ],
      "metadata": {
        "id": "GwKlhhl0N-xC"
      }
    },
    {
      "cell_type": "code",
      "source": [
        "print(df1.query('sex==\"M\"').count())\n",
        "print(df1.query('sex==\"F\"').count())"
      ],
      "metadata": {
        "colab": {
          "base_uri": "https://localhost:8080/"
        },
        "id": "LIPX2R1pNZr5",
        "outputId": "537386dc-fbd0-4fd3-ceb2-ac8abf6ea3c4"
      },
      "execution_count": null,
      "outputs": [
        {
          "output_type": "stream",
          "name": "stdout",
          "text": [
            "sex    17348\n",
            "dtype: int64\n",
            "sex    15690\n",
            "dtype: int64\n"
          ]
        }
      ]
    },
    {
      "cell_type": "markdown",
      "source": [
        "9. Summarize weight values for each site (plot_id) in your data."
      ],
      "metadata": {
        "id": "tSeyDa3cRB3D"
      }
    },
    {
      "cell_type": "code",
      "source": [
        "print(df.groupby(['plot_id']).describe())"
      ],
      "metadata": {
        "colab": {
          "base_uri": "https://localhost:8080/"
        },
        "id": "7KYSvlCcREbR",
        "outputId": "dfc6ef32-0634-4fc8-e79d-f9a93791f87f"
      },
      "execution_count": null,
      "outputs": [
        {
          "output_type": "stream",
          "name": "stdout",
          "text": [
            "        record_id                                                         \\\n",
            "            count          mean           std     min       25%      50%   \n",
            "plot_id                                                                    \n",
            "1          1995.0  17674.516792  10127.751746     6.0   8797.00  17663.0   \n",
            "2          2194.0  17669.809480  10483.747341     1.0   8660.25  18113.5   \n",
            "3          1828.0  19768.905361   9600.922909     2.0  12549.00  20130.0   \n",
            "4          1969.0  17998.813611  10057.511038    16.0   9598.00  18033.0   \n",
            "5          1194.0  13133.017588   8770.927578    11.0   5932.75  11411.0   \n",
            "6          1582.0  18579.403287  10751.914681    10.0   9493.00  17986.0   \n",
            "7           816.0  18080.537990   8454.495315     4.0  12996.50  18008.5   \n",
            "8          1891.0  19161.210999   9880.675015    14.0  11203.50  19188.0   \n",
            "9          1936.0  17295.930785  10327.351805    25.0   8675.50  17191.5   \n",
            "10          469.0  16180.501066   9356.828696    30.0   8898.00  15808.0   \n",
            "11         1918.0  17002.651199  10234.556677    20.0   8345.25  16904.5   \n",
            "12         2365.0  17383.576744  10100.507745    49.0   8603.00  16995.0   \n",
            "13         1538.0  17414.790637  10522.525594    23.0   7684.00  17917.0   \n",
            "14         1885.0  17670.336340  10119.809233    21.0   8715.00  18261.0   \n",
            "15         1069.0  19172.228251  10809.078838    22.0   9043.00  21137.0   \n",
            "16          646.0  17776.507740  10285.170980    36.0   9497.25  17081.5   \n",
            "17         2039.0  18572.008337  10583.769576    34.0   9349.50  20111.0   \n",
            "18         1445.0  16615.919723  10865.506950    42.0   6853.00  16098.0   \n",
            "19         1189.0  20042.891505  10077.786164    46.0  12365.00  21056.0   \n",
            "20         1390.0  16796.862590  10666.650446    40.0   7177.00  15506.5   \n",
            "21         1173.0  20764.940324  10120.359220    43.0  12920.00  22833.0   \n",
            "22         1399.0  18185.315225  10645.613295    45.0   8376.00  18014.0   \n",
            "23          571.0  15881.472855   9312.127353    41.0   7863.00  14874.0   \n",
            "24         1048.0  14718.620229   9061.144420  1963.0   7326.00  12783.0   \n",
            "\n",
            "                             month            ... hindfoot_length        \\\n",
            "              75%      max   count      mean  ...             75%   max   \n",
            "plot_id                                       ...                         \n",
            "1        26396.00  35393.0  1995.0  6.307769  ...           37.00  64.0   \n",
            "2        26859.25  35408.0  2194.0  6.378760  ...           36.00  58.0   \n",
            "3        28135.75  35495.0  1828.0  6.470460  ...           27.00  54.0   \n",
            "4        26675.00  35502.0  1969.0  6.424073  ...           37.00  55.0   \n",
            "5        19486.00  35549.0  1194.0  6.201005  ...           36.00  54.0   \n",
            "6        28583.75  35510.0  1582.0  6.307206  ...           35.00  54.0   \n",
            "7        24106.75  35548.0   816.0  6.580882  ...           21.00  50.0   \n",
            "8        27625.50  35526.0  1891.0  6.572713  ...           37.00  58.0   \n",
            "9        25916.00  35525.0  1936.0  6.423554  ...           37.00  54.0   \n",
            "10       22817.00  35547.0   469.0  6.093817  ...           20.00  52.0   \n",
            "11       25517.75  35518.0  1918.0  6.541710  ...           37.00  53.0   \n",
            "12       26500.00  35415.0  2365.0  6.369979  ...           36.00  70.0   \n",
            "13       26527.25  35531.0  1538.0  6.604031  ...           36.00  53.0   \n",
            "14       25909.00  35537.0  1885.0  6.583554  ...           37.00  52.0   \n",
            "15       28257.00  35546.0  1069.0  6.458372  ...           23.00  52.0   \n",
            "16       26609.25  35486.0   646.0  6.311146  ...           28.00  53.0   \n",
            "17       27739.00  35448.0  2039.0  6.599313  ...           36.00  53.0   \n",
            "18       26091.00  35435.0  1445.0  6.634602  ...           35.00  52.0   \n",
            "19       28704.00  35425.0  1189.0  6.617325  ...           25.00  50.0   \n",
            "20       26334.50  35459.0  1390.0  6.581295  ...           35.00  54.0   \n",
            "21       29352.00  35467.0  1173.0  6.747656  ...           26.00  49.0   \n",
            "22       28133.50  35477.0  1399.0  6.498928  ...           37.00  55.0   \n",
            "23       22355.00  35489.0   571.0  6.359019  ...           20.25  52.0   \n",
            "24       21239.75  35479.0  1048.0  6.447519  ...           35.00  52.0   \n",
            "\n",
            "         weight                                                      \n",
            "          count       mean        std  min   25%   50%   75%    max  \n",
            "plot_id                                                              \n",
            "1        1903.0  51.822911  38.176670  4.0  30.0  44.0  53.0  231.0  \n",
            "2        2074.0  52.251688  46.503602  5.0  24.0  41.0  50.0  278.0  \n",
            "3        1710.0  32.654386  35.641630  4.0  14.0  23.0  36.0  250.0  \n",
            "4        1866.0  47.928189  32.886598  4.0  30.0  43.0  50.0  200.0  \n",
            "5        1092.0  40.947802  34.086616  5.0  21.0  37.0  48.0  248.0  \n",
            "6        1463.0  36.738893  30.648310  5.0  18.0  30.0  45.0  243.0  \n",
            "7         638.0  20.663009  21.315325  4.0  11.0  17.0  23.0  235.0  \n",
            "8        1781.0  47.758001  33.192194  5.0  26.0  44.0  51.0  178.0  \n",
            "9        1811.0  51.432358  33.724726  6.0  36.0  45.0  50.0  275.0  \n",
            "10        279.0  18.541219  20.290806  4.0  10.0  12.0  21.0  237.0  \n",
            "11       1793.0  43.451757  28.975514  5.0  26.0  42.0  48.0  212.0  \n",
            "12       2219.0  49.496169  41.630035  6.0  26.0  42.0  50.0  280.0  \n",
            "13       1371.0  40.445660  34.042767  5.0  20.5  33.0  45.0  241.0  \n",
            "14       1728.0  46.277199  27.570389  5.0  36.0  44.0  49.0  222.0  \n",
            "15        869.0  27.042578  35.178142  4.0  11.0  18.0  26.0  259.0  \n",
            "16        480.0  24.585417  17.682334  4.0  12.0  20.0  34.0  158.0  \n",
            "17       1893.0  47.889593  35.802399  4.0  27.0  42.0  50.0  216.0  \n",
            "18       1351.0  40.005922  38.480856  5.0  17.5  30.0  44.0  256.0  \n",
            "19       1084.0  21.105166  13.269840  4.0  11.0  19.0  27.0  139.0  \n",
            "20       1222.0  48.665303  50.111539  5.0  17.0  31.0  47.0  223.0  \n",
            "21       1029.0  24.627794  21.199819  4.0  10.0  22.0  31.0  190.0  \n",
            "22       1298.0  54.146379  38.743967  5.0  29.0  42.0  54.0  212.0  \n",
            "23        369.0  19.634146  18.382678  4.0  10.0  14.0  23.0  199.0  \n",
            "24        960.0  43.679167  45.936588  4.0  19.0  27.5  45.0  251.0  \n",
            "\n",
            "[24 rows x 48 columns]\n"
          ]
        }
      ]
    },
    {
      "cell_type": "markdown",
      "source": [
        "10. Create a data frame containing only species and plot columns."
      ],
      "metadata": {
        "id": "oZlsYECcRFbK"
      }
    },
    {
      "cell_type": "code",
      "source": [
        "d=df[['species_id','plot_id']]\n",
        "print(d)"
      ],
      "metadata": {
        "colab": {
          "base_uri": "https://localhost:8080/"
        },
        "id": "G6I0GykFRHlq",
        "outputId": "f4a7eb52-218a-45f1-fec8-f8629159fb96"
      },
      "execution_count": null,
      "outputs": [
        {
          "output_type": "stream",
          "name": "stdout",
          "text": [
            "      species_id  plot_id\n",
            "0             NL        2\n",
            "1             NL        3\n",
            "2             DM        2\n",
            "3             DM        7\n",
            "4             DM        3\n",
            "...          ...      ...\n",
            "35544         AH       15\n",
            "35545         AH       15\n",
            "35546         RM       10\n",
            "35547         DO        7\n",
            "35548        NaN        5\n",
            "\n",
            "[35549 rows x 2 columns]\n"
          ]
        }
      ]
    },
    {
      "cell_type": "markdown",
      "source": [
        "11. Select the last element in the list"
      ],
      "metadata": {
        "id": "11n12ErLPuCd"
      }
    },
    {
      "cell_type": "code",
      "source": [
        "df.tail(1)"
      ],
      "metadata": {
        "colab": {
          "base_uri": "https://localhost:8080/",
          "height": 145
        },
        "id": "wlvfz5w_Puho",
        "outputId": "0241d835-9ff6-4cac-bee5-2f64d20b086b"
      },
      "execution_count": null,
      "outputs": [
        {
          "output_type": "execute_result",
          "data": {
            "text/plain": [
              "       record_id  month  day  year  plot_id species_id  sex  hindfoot_length  \\\n",
              "35548      35549     12   31  2002        5        NaN  NaN              NaN   \n",
              "\n",
              "       weight  \n",
              "35548     NaN  "
            ],
            "text/html": [
              "\n",
              "  <div id=\"df-c77f01a5-1881-40ab-ad76-4685e5def502\">\n",
              "    <div class=\"colab-df-container\">\n",
              "      <div>\n",
              "<style scoped>\n",
              "    .dataframe tbody tr th:only-of-type {\n",
              "        vertical-align: middle;\n",
              "    }\n",
              "\n",
              "    .dataframe tbody tr th {\n",
              "        vertical-align: top;\n",
              "    }\n",
              "\n",
              "    .dataframe thead th {\n",
              "        text-align: right;\n",
              "    }\n",
              "</style>\n",
              "<table border=\"1\" class=\"dataframe\">\n",
              "  <thead>\n",
              "    <tr style=\"text-align: right;\">\n",
              "      <th></th>\n",
              "      <th>record_id</th>\n",
              "      <th>month</th>\n",
              "      <th>day</th>\n",
              "      <th>year</th>\n",
              "      <th>plot_id</th>\n",
              "      <th>species_id</th>\n",
              "      <th>sex</th>\n",
              "      <th>hindfoot_length</th>\n",
              "      <th>weight</th>\n",
              "    </tr>\n",
              "  </thead>\n",
              "  <tbody>\n",
              "    <tr>\n",
              "      <th>35548</th>\n",
              "      <td>35549</td>\n",
              "      <td>12</td>\n",
              "      <td>31</td>\n",
              "      <td>2002</td>\n",
              "      <td>5</td>\n",
              "      <td>NaN</td>\n",
              "      <td>NaN</td>\n",
              "      <td>NaN</td>\n",
              "      <td>NaN</td>\n",
              "    </tr>\n",
              "  </tbody>\n",
              "</table>\n",
              "</div>\n",
              "      <button class=\"colab-df-convert\" onclick=\"convertToInteractive('df-c77f01a5-1881-40ab-ad76-4685e5def502')\"\n",
              "              title=\"Convert this dataframe to an interactive table.\"\n",
              "              style=\"display:none;\">\n",
              "        \n",
              "  <svg xmlns=\"http://www.w3.org/2000/svg\" height=\"24px\"viewBox=\"0 0 24 24\"\n",
              "       width=\"24px\">\n",
              "    <path d=\"M0 0h24v24H0V0z\" fill=\"none\"/>\n",
              "    <path d=\"M18.56 5.44l.94 2.06.94-2.06 2.06-.94-2.06-.94-.94-2.06-.94 2.06-2.06.94zm-11 1L8.5 8.5l.94-2.06 2.06-.94-2.06-.94L8.5 2.5l-.94 2.06-2.06.94zm10 10l.94 2.06.94-2.06 2.06-.94-2.06-.94-.94-2.06-.94 2.06-2.06.94z\"/><path d=\"M17.41 7.96l-1.37-1.37c-.4-.4-.92-.59-1.43-.59-.52 0-1.04.2-1.43.59L10.3 9.45l-7.72 7.72c-.78.78-.78 2.05 0 2.83L4 21.41c.39.39.9.59 1.41.59.51 0 1.02-.2 1.41-.59l7.78-7.78 2.81-2.81c.8-.78.8-2.07 0-2.86zM5.41 20L4 18.59l7.72-7.72 1.47 1.35L5.41 20z\"/>\n",
              "  </svg>\n",
              "      </button>\n",
              "      \n",
              "  <style>\n",
              "    .colab-df-container {\n",
              "      display:flex;\n",
              "      flex-wrap:wrap;\n",
              "      gap: 12px;\n",
              "    }\n",
              "\n",
              "    .colab-df-convert {\n",
              "      background-color: #E8F0FE;\n",
              "      border: none;\n",
              "      border-radius: 50%;\n",
              "      cursor: pointer;\n",
              "      display: none;\n",
              "      fill: #1967D2;\n",
              "      height: 32px;\n",
              "      padding: 0 0 0 0;\n",
              "      width: 32px;\n",
              "    }\n",
              "\n",
              "    .colab-df-convert:hover {\n",
              "      background-color: #E2EBFA;\n",
              "      box-shadow: 0px 1px 2px rgba(60, 64, 67, 0.3), 0px 1px 3px 1px rgba(60, 64, 67, 0.15);\n",
              "      fill: #174EA6;\n",
              "    }\n",
              "\n",
              "    [theme=dark] .colab-df-convert {\n",
              "      background-color: #3B4455;\n",
              "      fill: #D2E3FC;\n",
              "    }\n",
              "\n",
              "    [theme=dark] .colab-df-convert:hover {\n",
              "      background-color: #434B5C;\n",
              "      box-shadow: 0px 1px 3px 1px rgba(0, 0, 0, 0.15);\n",
              "      filter: drop-shadow(0px 1px 2px rgba(0, 0, 0, 0.3));\n",
              "      fill: #FFFFFF;\n",
              "    }\n",
              "  </style>\n",
              "\n",
              "      <script>\n",
              "        const buttonEl =\n",
              "          document.querySelector('#df-c77f01a5-1881-40ab-ad76-4685e5def502 button.colab-df-convert');\n",
              "        buttonEl.style.display =\n",
              "          google.colab.kernel.accessAllowed ? 'block' : 'none';\n",
              "\n",
              "        async function convertToInteractive(key) {\n",
              "          const element = document.querySelector('#df-c77f01a5-1881-40ab-ad76-4685e5def502');\n",
              "          const dataTable =\n",
              "            await google.colab.kernel.invokeFunction('convertToInteractive',\n",
              "                                                     [key], {});\n",
              "          if (!dataTable) return;\n",
              "\n",
              "          const docLinkHtml = 'Like what you see? Visit the ' +\n",
              "            '<a target=\"_blank\" href=https://colab.research.google.com/notebooks/data_table.ipynb>data table notebook</a>'\n",
              "            + ' to learn more about interactive tables.';\n",
              "          element.innerHTML = '';\n",
              "          dataTable['output_type'] = 'display_data';\n",
              "          await google.colab.output.renderOutput(dataTable, element);\n",
              "          const docLink = document.createElement('div');\n",
              "          docLink.innerHTML = docLinkHtml;\n",
              "          element.appendChild(docLink);\n",
              "        }\n",
              "      </script>\n",
              "    </div>\n",
              "  </div>\n",
              "  "
            ]
          },
          "metadata": {},
          "execution_count": 54
        }
      ]
    },
    {
      "cell_type": "markdown",
      "source": [
        "12. Select species_id, plot_id, and weight column of the first row only"
      ],
      "metadata": {
        "id": "qZk79Dx8P0cQ"
      }
    },
    {
      "cell_type": "code",
      "source": [
        "df.loc[:0 ,['species_id','plot_id','weight']]"
      ],
      "metadata": {
        "colab": {
          "base_uri": "https://localhost:8080/",
          "height": 81
        },
        "id": "b3dSAcazP2rL",
        "outputId": "834d5450-6aca-4079-c61a-254c42719183"
      },
      "execution_count": null,
      "outputs": [
        {
          "output_type": "execute_result",
          "data": {
            "text/plain": [
              "  species_id  plot_id  weight\n",
              "0         NL        2     NaN"
            ],
            "text/html": [
              "\n",
              "  <div id=\"df-b09643cd-b871-46ab-b6a2-55746ec57955\">\n",
              "    <div class=\"colab-df-container\">\n",
              "      <div>\n",
              "<style scoped>\n",
              "    .dataframe tbody tr th:only-of-type {\n",
              "        vertical-align: middle;\n",
              "    }\n",
              "\n",
              "    .dataframe tbody tr th {\n",
              "        vertical-align: top;\n",
              "    }\n",
              "\n",
              "    .dataframe thead th {\n",
              "        text-align: right;\n",
              "    }\n",
              "</style>\n",
              "<table border=\"1\" class=\"dataframe\">\n",
              "  <thead>\n",
              "    <tr style=\"text-align: right;\">\n",
              "      <th></th>\n",
              "      <th>species_id</th>\n",
              "      <th>plot_id</th>\n",
              "      <th>weight</th>\n",
              "    </tr>\n",
              "  </thead>\n",
              "  <tbody>\n",
              "    <tr>\n",
              "      <th>0</th>\n",
              "      <td>NL</td>\n",
              "      <td>2</td>\n",
              "      <td>NaN</td>\n",
              "    </tr>\n",
              "  </tbody>\n",
              "</table>\n",
              "</div>\n",
              "      <button class=\"colab-df-convert\" onclick=\"convertToInteractive('df-b09643cd-b871-46ab-b6a2-55746ec57955')\"\n",
              "              title=\"Convert this dataframe to an interactive table.\"\n",
              "              style=\"display:none;\">\n",
              "        \n",
              "  <svg xmlns=\"http://www.w3.org/2000/svg\" height=\"24px\"viewBox=\"0 0 24 24\"\n",
              "       width=\"24px\">\n",
              "    <path d=\"M0 0h24v24H0V0z\" fill=\"none\"/>\n",
              "    <path d=\"M18.56 5.44l.94 2.06.94-2.06 2.06-.94-2.06-.94-.94-2.06-.94 2.06-2.06.94zm-11 1L8.5 8.5l.94-2.06 2.06-.94-2.06-.94L8.5 2.5l-.94 2.06-2.06.94zm10 10l.94 2.06.94-2.06 2.06-.94-2.06-.94-.94-2.06-.94 2.06-2.06.94z\"/><path d=\"M17.41 7.96l-1.37-1.37c-.4-.4-.92-.59-1.43-.59-.52 0-1.04.2-1.43.59L10.3 9.45l-7.72 7.72c-.78.78-.78 2.05 0 2.83L4 21.41c.39.39.9.59 1.41.59.51 0 1.02-.2 1.41-.59l7.78-7.78 2.81-2.81c.8-.78.8-2.07 0-2.86zM5.41 20L4 18.59l7.72-7.72 1.47 1.35L5.41 20z\"/>\n",
              "  </svg>\n",
              "      </button>\n",
              "      \n",
              "  <style>\n",
              "    .colab-df-container {\n",
              "      display:flex;\n",
              "      flex-wrap:wrap;\n",
              "      gap: 12px;\n",
              "    }\n",
              "\n",
              "    .colab-df-convert {\n",
              "      background-color: #E8F0FE;\n",
              "      border: none;\n",
              "      border-radius: 50%;\n",
              "      cursor: pointer;\n",
              "      display: none;\n",
              "      fill: #1967D2;\n",
              "      height: 32px;\n",
              "      padding: 0 0 0 0;\n",
              "      width: 32px;\n",
              "    }\n",
              "\n",
              "    .colab-df-convert:hover {\n",
              "      background-color: #E2EBFA;\n",
              "      box-shadow: 0px 1px 2px rgba(60, 64, 67, 0.3), 0px 1px 3px 1px rgba(60, 64, 67, 0.15);\n",
              "      fill: #174EA6;\n",
              "    }\n",
              "\n",
              "    [theme=dark] .colab-df-convert {\n",
              "      background-color: #3B4455;\n",
              "      fill: #D2E3FC;\n",
              "    }\n",
              "\n",
              "    [theme=dark] .colab-df-convert:hover {\n",
              "      background-color: #434B5C;\n",
              "      box-shadow: 0px 1px 3px 1px rgba(0, 0, 0, 0.15);\n",
              "      filter: drop-shadow(0px 1px 2px rgba(0, 0, 0, 0.3));\n",
              "      fill: #FFFFFF;\n",
              "    }\n",
              "  </style>\n",
              "\n",
              "      <script>\n",
              "        const buttonEl =\n",
              "          document.querySelector('#df-b09643cd-b871-46ab-b6a2-55746ec57955 button.colab-df-convert');\n",
              "        buttonEl.style.display =\n",
              "          google.colab.kernel.accessAllowed ? 'block' : 'none';\n",
              "\n",
              "        async function convertToInteractive(key) {\n",
              "          const element = document.querySelector('#df-b09643cd-b871-46ab-b6a2-55746ec57955');\n",
              "          const dataTable =\n",
              "            await google.colab.kernel.invokeFunction('convertToInteractive',\n",
              "                                                     [key], {});\n",
              "          if (!dataTable) return;\n",
              "\n",
              "          const docLinkHtml = 'Like what you see? Visit the ' +\n",
              "            '<a target=\"_blank\" href=https://colab.research.google.com/notebooks/data_table.ipynb>data table notebook</a>'\n",
              "            + ' to learn more about interactive tables.';\n",
              "          element.innerHTML = '';\n",
              "          dataTable['output_type'] = 'display_data';\n",
              "          await google.colab.output.renderOutput(dataTable, element);\n",
              "          const docLink = document.createElement('div');\n",
              "          docLink.innerHTML = docLinkHtml;\n",
              "          element.appendChild(docLink);\n",
              "        }\n",
              "      </script>\n",
              "    </div>\n",
              "  </div>\n",
              "  "
            ]
          },
          "metadata": {},
          "execution_count": 55
        }
      ]
    },
    {
      "cell_type": "markdown",
      "source": [
        "13. Create a data frame containing only the rows with year 2002."
      ],
      "metadata": {
        "id": "dYZfVk0VNIeZ"
      }
    },
    {
      "cell_type": "code",
      "source": [
        "y=df.query('year==2002')\n",
        "print(y)"
      ],
      "metadata": {
        "colab": {
          "base_uri": "https://localhost:8080/"
        },
        "id": "2_Gn6CkKOTeF",
        "outputId": "bf9ca3d3-9f1e-45da-ad11-f96b39991be7"
      },
      "execution_count": null,
      "outputs": [
        {
          "output_type": "stream",
          "name": "stdout",
          "text": [
            "       record_id  month  day  year  plot_id species_id  sex  hindfoot_length  \\\n",
            "33320      33321      1   12  2002        1         DM    M             38.0   \n",
            "33321      33322      1   12  2002        1         DO    M             37.0   \n",
            "33322      33323      1   12  2002        1         PB    M             28.0   \n",
            "33323      33324      1   12  2002        1         AB  NaN              NaN   \n",
            "33324      33325      1   12  2002        1         DO    M             35.0   \n",
            "...          ...    ...  ...   ...      ...        ...  ...              ...   \n",
            "35544      35545     12   31  2002       15         AH  NaN              NaN   \n",
            "35545      35546     12   31  2002       15         AH  NaN              NaN   \n",
            "35546      35547     12   31  2002       10         RM    F             15.0   \n",
            "35547      35548     12   31  2002        7         DO    M             36.0   \n",
            "35548      35549     12   31  2002        5        NaN  NaN              NaN   \n",
            "\n",
            "       weight  \n",
            "33320    44.0  \n",
            "33321    58.0  \n",
            "33322    45.0  \n",
            "33323     NaN  \n",
            "33324    29.0  \n",
            "...       ...  \n",
            "35544     NaN  \n",
            "35545     NaN  \n",
            "35546    14.0  \n",
            "35547    51.0  \n",
            "35548     NaN  \n",
            "\n",
            "[2229 rows x 9 columns]\n"
          ]
        }
      ]
    },
    {
      "cell_type": "markdown",
      "source": [
        "14. Select rows that contain data from the year 1999 and weight values less than or equal to 8"
      ],
      "metadata": {
        "id": "GFvb3DXROs0i"
      }
    },
    {
      "cell_type": "code",
      "source": [
        "v=df.query('year=1999' and 'weight<=8')\n",
        "print(v)"
      ],
      "metadata": {
        "colab": {
          "base_uri": "https://localhost:8080/"
        },
        "id": "CLYy09nNOwF2",
        "outputId": "1d5b6c10-55de-40d7-d508-6c82369ba466"
      },
      "execution_count": null,
      "outputs": [
        {
          "output_type": "stream",
          "name": "stdout",
          "text": [
            "       record_id  month  day  year  plot_id species_id sex  hindfoot_length  \\\n",
            "68            69      8   19  1977        2         PF   M             15.0   \n",
            "73            74      8   19  1977        8         PF   M             12.0   \n",
            "80            81      8   19  1977        4         PF   F             14.0   \n",
            "112          113      8   20  1977        5         PF   F             13.0   \n",
            "171          172      9   11  1977       22         PF   F              NaN   \n",
            "...          ...    ...  ...   ...      ...        ...  ..              ...   \n",
            "35100      35101     11   10  2002        9         PF   M             14.0   \n",
            "35171      35172     11   10  2002       14         PF   F             15.0   \n",
            "35300      35301     12    8  2002        4         PF   M             13.0   \n",
            "35307      35308     12    8  2002        6         PF   F             16.0   \n",
            "35505      35506     12   31  2002        6         PF   M             13.0   \n",
            "\n",
            "       weight  \n",
            "68        8.0  \n",
            "73        7.0  \n",
            "80        8.0  \n",
            "112       8.0  \n",
            "171       8.0  \n",
            "...       ...  \n",
            "35100     7.0  \n",
            "35171     7.0  \n",
            "35300     6.0  \n",
            "35307     6.0  \n",
            "35505     8.0  \n",
            "\n",
            "[1480 rows x 9 columns]\n"
          ]
        }
      ]
    },
    {
      "cell_type": "markdown",
      "source": [
        "15. Create a plot of average weight across all species per site."
      ],
      "metadata": {
        "id": "MaS8PcAcQU9s"
      }
    },
    {
      "cell_type": "code",
      "source": [
        "avg=df['weight'].mean()\n",
        "print(avg)"
      ],
      "metadata": {
        "colab": {
          "base_uri": "https://localhost:8080/"
        },
        "id": "fz39TUXTQW94",
        "outputId": "6256691e-ea34-4181-f2f8-6e231ab0218c"
      },
      "execution_count": null,
      "outputs": [
        {
          "output_type": "stream",
          "name": "stdout",
          "text": [
            "42.672428212991356\n"
          ]
        }
      ]
    }
  ]
}
