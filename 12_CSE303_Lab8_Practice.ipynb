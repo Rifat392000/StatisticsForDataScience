{
  "nbformat": 4,
  "nbformat_minor": 0,
  "metadata": {
    "colab": {
      "provenance": []
    },
    "kernelspec": {
      "name": "python3",
      "display_name": "Python 3"
    },
    "language_info": {
      "name": "python"
    }
  },
  "cells": [
    {
      "cell_type": "code",
      "execution_count": null,
      "metadata": {
        "id": "WWbT6npA9vkt"
      },
      "outputs": [],
      "source": [
        "import pandas as pd\n",
        "import numpy as np"
      ]
    },
    {
      "cell_type": "code",
      "source": [
        "from google.colab import drive\n",
        "drive.mount('/content/drive')"
      ],
      "metadata": {
        "colab": {
          "base_uri": "https://localhost:8080/"
        },
        "id": "TGuJXVrcJ0ij",
        "outputId": "21bd2edb-f26a-4c33-e5a7-e5ab0ff1ce87"
      },
      "execution_count": null,
      "outputs": [
        {
          "output_type": "stream",
          "name": "stdout",
          "text": [
            "Drive already mounted at /content/drive; to attempt to forcibly remount, call drive.mount(\"/content/drive\", force_remount=True).\n"
          ]
        }
      ]
    },
    {
      "cell_type": "code",
      "source": [
        "df = pd.read_excel(\"/content/drive/MyDrive/dataset_multiple_LR.xlsx\")\n",
        "print(df)"
      ],
      "metadata": {
        "colab": {
          "base_uri": "https://localhost:8080/"
        },
        "id": "k8OOX334-I4_",
        "outputId": "0905bb34-92c9-4836-a34e-a752e5dd5475"
      },
      "execution_count": null,
      "outputs": [
        {
          "output_type": "stream",
          "name": "stdout",
          "text": [
            "    Age  Weight  Blood Pressure\n",
            "0    52     173             132\n",
            "1    59     184             143\n",
            "2    67     194             153\n",
            "3    73     211             162\n",
            "4    64     196             154\n",
            "5    74     220             168\n",
            "6    54     188             137\n",
            "7    61     188             149\n",
            "8    65     207             159\n",
            "9    46     167             128\n",
            "10   72     217             166\n"
          ]
        }
      ]
    },
    {
      "cell_type": "code",
      "source": [
        "data = df.to_numpy()\n",
        "print(data)"
      ],
      "metadata": {
        "id": "Hly4wVuOKA4E",
        "colab": {
          "base_uri": "https://localhost:8080/"
        },
        "outputId": "d1c8ca4d-a9c7-4d59-e2b9-e9636b684686"
      },
      "execution_count": null,
      "outputs": [
        {
          "output_type": "stream",
          "name": "stdout",
          "text": [
            "[[ 52 173 132]\n",
            " [ 59 184 143]\n",
            " [ 67 194 153]\n",
            " [ 73 211 162]\n",
            " [ 64 196 154]\n",
            " [ 74 220 168]\n",
            " [ 54 188 137]\n",
            " [ 61 188 149]\n",
            " [ 65 207 159]\n",
            " [ 46 167 128]\n",
            " [ 72 217 166]]\n"
          ]
        }
      ]
    },
    {
      "cell_type": "code",
      "source": [
        "X = data[:,0:2]\n",
        "print(X)"
      ],
      "metadata": {
        "colab": {
          "base_uri": "https://localhost:8080/"
        },
        "id": "tERDXEzLL6e0",
        "outputId": "12aa74ec-c04a-4343-e8bc-408df0e3a471"
      },
      "execution_count": null,
      "outputs": [
        {
          "output_type": "stream",
          "name": "stdout",
          "text": [
            "[[ 52 173]\n",
            " [ 59 184]\n",
            " [ 67 194]\n",
            " [ 73 211]\n",
            " [ 64 196]\n",
            " [ 74 220]\n",
            " [ 54 188]\n",
            " [ 61 188]\n",
            " [ 65 207]\n",
            " [ 46 167]\n",
            " [ 72 217]]\n"
          ]
        }
      ]
    },
    {
      "cell_type": "code",
      "source": [
        "Y = data[:,2].reshape(-1,1)\n",
        "print(Y)"
      ],
      "metadata": {
        "colab": {
          "base_uri": "https://localhost:8080/"
        },
        "id": "zZ2jHABrMIwE",
        "outputId": "8e613dd2-a716-4f69-dc9d-0dc298a6aaa6"
      },
      "execution_count": null,
      "outputs": [
        {
          "output_type": "stream",
          "name": "stdout",
          "text": [
            "[[132]\n",
            " [143]\n",
            " [153]\n",
            " [162]\n",
            " [154]\n",
            " [168]\n",
            " [137]\n",
            " [149]\n",
            " [159]\n",
            " [128]\n",
            " [166]]\n"
          ]
        }
      ]
    },
    {
      "cell_type": "code",
      "source": [
        "X0 = np.ones(11).reshape(-1,1)\n",
        "print(X0)"
      ],
      "metadata": {
        "colab": {
          "base_uri": "https://localhost:8080/"
        },
        "id": "0ynYfhKVHOIt",
        "outputId": "5b772f84-a282-456c-8721-40c9c17d3643"
      },
      "execution_count": null,
      "outputs": [
        {
          "output_type": "stream",
          "name": "stdout",
          "text": [
            "[[1.]\n",
            " [1.]\n",
            " [1.]\n",
            " [1.]\n",
            " [1.]\n",
            " [1.]\n",
            " [1.]\n",
            " [1.]\n",
            " [1.]\n",
            " [1.]\n",
            " [1.]]\n"
          ]
        }
      ]
    },
    {
      "cell_type": "code",
      "source": [
        "X = np.append(X0,X, axis = 1)\n",
        "print(X)"
      ],
      "metadata": {
        "colab": {
          "base_uri": "https://localhost:8080/"
        },
        "id": "vpQzYgm8LA08",
        "outputId": "d90d04a0-c7c6-43b9-e0b4-8e6c02b8b6ea"
      },
      "execution_count": null,
      "outputs": [
        {
          "output_type": "stream",
          "name": "stdout",
          "text": [
            "[[  1.  52. 173.]\n",
            " [  1.  59. 184.]\n",
            " [  1.  67. 194.]\n",
            " [  1.  73. 211.]\n",
            " [  1.  64. 196.]\n",
            " [  1.  74. 220.]\n",
            " [  1.  54. 188.]\n",
            " [  1.  61. 188.]\n",
            " [  1.  65. 207.]\n",
            " [  1.  46. 167.]\n",
            " [  1.  72. 217.]]\n"
          ]
        }
      ]
    },
    {
      "cell_type": "code",
      "source": [
        "def transpose (X):\n",
        "  result = np.zeros(len(X)*len(X[0])).reshape(len(X[0]),len(X))\n",
        "  for j in range(len(X)):\n",
        "    for i in range(len(X[0])):\n",
        "      result[i,j] = X[j, i]\n",
        "  return result"
      ],
      "metadata": {
        "id": "e3M9bdwSKuQb"
      },
      "execution_count": null,
      "outputs": []
    },
    {
      "cell_type": "code",
      "source": [
        "XT = transpose(X)\n",
        "print(XT)"
      ],
      "metadata": {
        "id": "4h2PWYwoPnLS",
        "colab": {
          "base_uri": "https://localhost:8080/"
        },
        "outputId": "caa97c66-0ba0-4dca-e838-cfcc3ad051f9"
      },
      "execution_count": null,
      "outputs": [
        {
          "output_type": "stream",
          "name": "stdout",
          "text": [
            "[[  1.   1.   1.   1.   1.   1.   1.   1.   1.   1.   1.]\n",
            " [ 52.  59.  67.  73.  64.  74.  54.  61.  65.  46.  72.]\n",
            " [173. 184. 194. 211. 196. 220. 188. 188. 207. 167. 217.]]\n"
          ]
        }
      ]
    },
    {
      "cell_type": "code",
      "source": [
        "def myMulti(res,b):\n",
        "  value=np.zeros(len(res)*len(res)).reshape(len(res),len(res))\n",
        "  for i in range(len(res)):\n",
        "    for j in range(len(b[0])):\n",
        "      for k in range(len(b)):\n",
        "        value[i][j]+=res[i][k]*b[k][j]\n",
        "  return value"
      ],
      "metadata": {
        "id": "0r9z3dwyPupi"
      },
      "execution_count": null,
      "outputs": []
    },
    {
      "cell_type": "code",
      "source": [
        "np.set_printoptions(suppress=True)\n",
        "A=myMulti(XT,X)\n",
        "print(A)"
      ],
      "metadata": {
        "colab": {
          "base_uri": "https://localhost:8080/"
        },
        "id": "2banDtDoQ-yK",
        "outputId": "f32c34b0-0553-443c-ea77-85e69d4aa2e0"
      },
      "execution_count": null,
      "outputs": [
        {
          "output_type": "stream",
          "name": "stdout",
          "text": [
            "[[    11.    687.   2145.]\n",
            " [   687.  43737. 135458.]\n",
            " [  2145. 135458. 421273.]]\n"
          ]
        }
      ]
    },
    {
      "cell_type": "code",
      "source": [
        "C=myMulti(XT,Y)\n",
        "print(C)"
      ],
      "metadata": {
        "id": "fdPj_k9-HuDc",
        "colab": {
          "base_uri": "https://localhost:8080/"
        },
        "outputId": "149dca37-d94d-44fc-ec74-211fe543ca8a"
      },
      "execution_count": null,
      "outputs": [
        {
          "output_type": "stream",
          "name": "stdout",
          "text": [
            "[[  1651.      0.      0.]\n",
            " [104328.      0.      0.]\n",
            " [324235.      0.      0.]]\n"
          ]
        }
      ]
    },
    {
      "cell_type": "code",
      "source": [
        "def determ(a):\n",
        "  deter=0\n",
        "  for i in range(len(a)):\n",
        "      deter+=(a[0][i] * (a[1][(i+1)%3] * a[2][(i+2)%3] - a[1][(i+2)%3] * a[2][(i+1)%3]))\n",
        "  return deter\n",
        "\n"
      ],
      "metadata": {
        "id": "N0LFGKpHPHMD"
      },
      "execution_count": null,
      "outputs": []
    },
    {
      "cell_type": "code",
      "source": [
        "d=determ(A)\n",
        "d"
      ],
      "metadata": {
        "colab": {
          "base_uri": "https://localhost:8080/"
        },
        "id": "ObAPu0aIh3iY",
        "outputId": "c0b361f2-d54c-43af-dfac-3ed5cac9654a"
      },
      "execution_count": null,
      "outputs": [
        {
          "output_type": "execute_result",
          "data": {
            "text/plain": [
              "2876185.0"
            ]
          },
          "metadata": {},
          "execution_count": 43
        }
      ]
    },
    {
      "cell_type": "code",
      "source": [
        "def cofac(a):\n",
        "  cof2=np.zeros(len(a)*len(a)).reshape(len(a),len(a))\n",
        "  for i in range(len(a)):\n",
        "    for j in range(len(a)):\n",
        "      cof2[i][j]=((a[(j+1)%3][(i+1)%3] * a[(j+2)%3][(i+2)%3]) - (a[(j+1)%3][(i+2)%3] * a[(j+2)%3][(i+1)%3]))\n",
        "  return cof2"
      ],
      "metadata": {
        "id": "fHG9eKvSVr0h"
      },
      "execution_count": null,
      "outputs": []
    },
    {
      "cell_type": "code",
      "source": [
        "np.set_printoptions(suppress=True)\n",
        "cofA=cofac(A)\n",
        "print(cofA)"
      ],
      "metadata": {
        "id": "VTvBWdsrSjNp",
        "colab": {
          "base_uri": "https://localhost:8080/"
        },
        "outputId": "106f029b-eff0-40ce-e7ce-5004f50a276d"
      },
      "execution_count": null,
      "outputs": [
        {
          "output_type": "stream",
          "name": "stdout",
          "text": [
            "[[76347437.  1142859.  -756219.]\n",
            " [ 1142859.    32978.   -16423.]\n",
            " [ -756219.   -16423.     9138.]]\n"
          ]
        }
      ]
    },
    {
      "cell_type": "code",
      "source": [
        "adjA=transpose(cofA)\n",
        "adjA"
      ],
      "metadata": {
        "colab": {
          "base_uri": "https://localhost:8080/"
        },
        "id": "zkzg6bZeTU-g",
        "outputId": "82843f19-6e46-49de-87ae-c6fcae36d675"
      },
      "execution_count": null,
      "outputs": [
        {
          "output_type": "execute_result",
          "data": {
            "text/plain": [
              "array([[76347437.,  1142859.,  -756219.],\n",
              "       [ 1142859.,    32978.,   -16423.],\n",
              "       [ -756219.,   -16423.,     9138.]])"
            ]
          },
          "metadata": {},
          "execution_count": 46
        }
      ]
    },
    {
      "cell_type": "code",
      "source": [
        "def inv(a):\n",
        "  inverse=np.zeros(len(a)*len(a)).reshape(len(a),len(a))\n",
        "  for i in range(len(a)):\n",
        "        for j in range(len(a)):\n",
        "            inverse[i][j] = adjA[i][j]/d\n",
        "  return inverse"
      ],
      "metadata": {
        "id": "5L2WRj1_ht_z"
      },
      "execution_count": null,
      "outputs": []
    },
    {
      "cell_type": "code",
      "source": [
        "iv=inv(A)\n",
        "iv"
      ],
      "metadata": {
        "colab": {
          "base_uri": "https://localhost:8080/"
        },
        "id": "on61HcMoh_xH",
        "outputId": "6f71e7e9-c0d4-476b-c5e6-6036aa452fee"
      },
      "execution_count": null,
      "outputs": [
        {
          "output_type": "execute_result",
          "data": {
            "text/plain": [
              "array([[26.54468923,  0.3973524 , -0.26292433],\n",
              "       [ 0.3973524 ,  0.01146588, -0.00570999],\n",
              "       [-0.26292433, -0.00570999,  0.00317713]])"
            ]
          },
          "metadata": {},
          "execution_count": 48
        }
      ]
    },
    {
      "cell_type": "code",
      "source": [
        "np.set_printoptions(suppress=True)\n",
        "W=myMulti(iv,C)\n",
        "W"
      ],
      "metadata": {
        "id": "o3ZnSiWjiGJv",
        "outputId": "6d389ca7-0f54-4227-e497-2af9fb62fd82",
        "colab": {
          "base_uri": "https://localhost:8080/"
        }
      },
      "execution_count": null,
      "outputs": [
        {
          "output_type": "execute_result",
          "data": {
            "text/plain": [
              "array([[30.99410295,  0.        ,  0.        ],\n",
              "       [ 0.86141469,  0.        ,  0.        ],\n",
              "       [ 0.3348592 ,  0.        ,  0.        ]])"
            ]
          },
          "metadata": {},
          "execution_count": 49
        }
      ]
    }
  ]
}