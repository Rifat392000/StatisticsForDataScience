{
  "nbformat": 4,
  "nbformat_minor": 0,
  "metadata": {
    "colab": {
      "provenance": []
    },
    "kernelspec": {
      "name": "python3",
      "display_name": "Python 3"
    },
    "language_info": {
      "name": "python"
    }
  },
  "cells": [
    {
      "cell_type": "markdown",
      "source": [
        "Numpy arrays are great alternatives to Python\n",
        "Lists. Some of the key advantages of Numpy arrays are that they are fast, easy to work with, and give users the opportunity to perform calculations across entire arrays."
      ],
      "metadata": {
        "id": "rcJtHkYD81UH"
      }
    },
    {
      "cell_type": "code",
      "source": [
        "# Create 2 new lists height and weight\n",
        "height = [1.87,  1.87, 1.82, 1.91, 1.90, 1.85]\n",
        "weight = [81.65, 97.52, 95.25, 92.98, 86.18, 88.45]\n",
        "\n",
        "# Import the numpy package as np\n",
        "import numpy as np\n",
        "\n",
        "# Create 2 numpy arrays from height and weight\n",
        "np_height = np.array(height)\n",
        "print(np_height)\n",
        "np_weight = np.array(weight)\n",
        "print(np_weight)"
      ],
      "metadata": {
        "id": "haryYXxr8-Mu",
        "colab": {
          "base_uri": "https://localhost:8080/"
        },
        "outputId": "47063597-9e07-47ed-fbf1-a4d6b06a3e1e"
      },
      "execution_count": null,
      "outputs": [
        {
          "output_type": "stream",
          "name": "stdout",
          "text": [
            "[1.87 1.87 1.82 1.91 1.9  1.85]\n",
            "[81.65 97.52 95.25 92.98 86.18 88.45]\n"
          ]
        }
      ]
    },
    {
      "cell_type": "code",
      "source": [
        "print(type(np_height))"
      ],
      "metadata": {
        "id": "hhrwXenT9ECn",
        "outputId": "94d93413-fcbb-4199-e2fd-ded77538bc11",
        "colab": {
          "base_uri": "https://localhost:8080/"
        }
      },
      "execution_count": null,
      "outputs": [
        {
          "output_type": "stream",
          "name": "stdout",
          "text": [
            "<class 'numpy.ndarray'>\n"
          ]
        }
      ]
    },
    {
      "cell_type": "markdown",
      "source": [
        "![How-to-Calculate-BMI-in-Excel13.png](data:image/png;base64,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)"
      ],
      "metadata": {
        "id": "DIp8Lav9qLkn"
      }
    },
    {
      "cell_type": "code",
      "source": [
        "# Calculate bmi\n",
        "bmi = np_weight / np_height ** 2\n",
        "\n",
        "# Print the result\n",
        "print(bmi)"
      ],
      "metadata": {
        "id": "6gKc3FjZ9I8e",
        "outputId": "f4b1e9b4-49ba-4458-e537-99b98f6c4bca",
        "colab": {
          "base_uri": "https://localhost:8080/"
        }
      },
      "execution_count": null,
      "outputs": [
        {
          "output_type": "stream",
          "name": "stdout",
          "text": [
            "[23.34925219 27.88755755 28.75558507 25.48723993 23.87257618 25.84368152]\n"
          ]
        }
      ]
    },
    {
      "cell_type": "markdown",
      "source": [
        "## Subsetting\n",
        "Another great feature of Numpy arrays is the ability to subset. For instance, if you wanted to know which observations in our BMI array are above 24, we could quickly subset it to find out."
      ],
      "metadata": {
        "id": "U4MoHWcUrE1v"
      }
    },
    {
      "cell_type": "code",
      "source": [
        "# For a boolean response\n",
        "bmi > 24\n",
        "\n",
        "# Print only those observations above 24\n",
        "bmi[bmi > 24]"
      ],
      "metadata": {
        "colab": {
          "base_uri": "https://localhost:8080/"
        },
        "id": "ubc2dTv9qpqO",
        "outputId": "8102ba35-45a7-47c6-866c-f8a2ec2b5384"
      },
      "execution_count": null,
      "outputs": [
        {
          "output_type": "execute_result",
          "data": {
            "text/plain": [
              "array([27.88755755, 28.75558507, 25.48723993, 25.84368152])"
            ]
          },
          "metadata": {},
          "execution_count": 14
        }
      ]
    },
    {
      "cell_type": "markdown",
      "source": [
        "First, convert the list of weights from a list to a Numpy array. Then, convert all of the weights from kilograms to pounds. Use the scalar conversion of 2.2 lbs per kilogram to make your conversion. Lastly, print the resulting array of weights in pounds."
      ],
      "metadata": {
        "id": "22M1ZYC6rzHr"
      }
    },
    {
      "cell_type": "code",
      "source": [
        "weight_kg = [81.65, 97.52, 95.25, 92.98, 86.18, 88.45]\n",
        "\n",
        "import numpy as np\n",
        "\n",
        "# Create a numpy array np_weight_kg from weight_kg\n",
        "np_weight_kg = np.array(weight_kg)\n",
        "\n",
        "# Create np_weight_lbs from np_weight_kg\n",
        "np_weight_lbs = np_weight_kg * 2.2\n",
        "\n",
        "# Print out np_weight_lbs\n",
        "print(np_weight_lbs)"
      ],
      "metadata": {
        "colab": {
          "base_uri": "https://localhost:8080/"
        },
        "id": "TEN1NKSGrlfX",
        "outputId": "847abac9-f917-4247-9928-fba43fe15c81"
      },
      "execution_count": null,
      "outputs": [
        {
          "output_type": "stream",
          "name": "stdout",
          "text": [
            "[179.63  214.544 209.55  204.556 189.596 194.59 ]\n"
          ]
        }
      ]
    },
    {
      "cell_type": "markdown",
      "source": [
        "\n",
        "\n",
        "---\n",
        "\n",
        "\n",
        "\n",
        "---\n",
        "\n",
        "\n",
        "\n",
        "---\n",
        "\n",
        "\n",
        "\n",
        "---\n",
        "\n"
      ],
      "metadata": {
        "id": "AyyYVefysWMe"
      }
    },
    {
      "cell_type": "markdown",
      "source": [
        "# **Pandas Basics**\n",
        "## *Pandas DataFrames*\n",
        "Pandas is a high-level data manipulation tool developed by Wes McKinney. It is built on the Numpy package and its key data structure is called the DataFrame. DataFrames allow you to store and manipulate tabular data in rows of observations and columns of variables."
      ],
      "metadata": {
        "id": "aKFM1r2gHpK1"
      }
    },
    {
      "cell_type": "code",
      "source": [
        "dict = {\n",
        "    \"country\": [\"Brazil\", \"Russia\", \"India\", \"China\", \"South Africa\"],\n",
        "       \"capital\": [\"Brasilia\", \"Moscow\", \"New Dehli\", \"Beijing\", \"Pretoria\"],\n",
        "       \"area\": [8.516, 17.10, 3.286, 9.597, 1.221],\n",
        "       \"population\": [200.4, 143.5, 1252, 1357, 52.98]\n",
        "        }\n",
        "\n",
        "import pandas as pd\n",
        "brics = pd.DataFrame(dict)\n",
        "print(brics)"
      ],
      "metadata": {
        "colab": {
          "base_uri": "https://localhost:8080/"
        },
        "id": "OL3kgElxHxOW",
        "outputId": "d27f2077-b2e6-473d-cdf7-a5a4e344bf42"
      },
      "execution_count": null,
      "outputs": [
        {
          "output_type": "stream",
          "name": "stdout",
          "text": [
            "        country    capital    area  population\n",
            "0        Brazil   Brasilia   8.516      200.40\n",
            "1        Russia     Moscow  17.100      143.50\n",
            "2         India  New Dehli   3.286     1252.00\n",
            "3         China    Beijing   9.597     1357.00\n",
            "4  South Africa   Pretoria   1.221       52.98\n"
          ]
        }
      ]
    },
    {
      "cell_type": "markdown",
      "source": [
        "As you can see with the new brics DataFrame, Pandas has assigned a key for each country as the numerical values 0 through 4. If you would like to have different index values, say, the two letter country code, you can do that easily as well."
      ],
      "metadata": {
        "id": "y-QEXFPEN-rF"
      }
    },
    {
      "cell_type": "code",
      "source": [
        "# Set the index for brics\n",
        "brics.index = [\"BR\", \"RU\", \"IN\", \"CH\", \"SA\"]\n",
        "\n",
        "# Print out brics with new index values\n",
        "print(brics)"
      ],
      "metadata": {
        "colab": {
          "base_uri": "https://localhost:8080/"
        },
        "id": "CkATYl5aNrKn",
        "outputId": "c9284c5f-689c-420b-a4c4-3d34e1b2a458"
      },
      "execution_count": null,
      "outputs": [
        {
          "output_type": "stream",
          "name": "stdout",
          "text": [
            "         country    capital    area  population\n",
            "BR        Brazil   Brasilia   8.516      200.40\n",
            "RU        Russia     Moscow  17.100      143.50\n",
            "IN         India  New Dehli   3.286     1252.00\n",
            "CH         China    Beijing   9.597     1357.00\n",
            "SA  South Africa   Pretoria   1.221       52.98\n"
          ]
        }
      ]
    },
    {
      "cell_type": "code",
      "source": [
        "# Import pandas as pd\n",
        "import pandas as pd\n",
        "\n",
        "# Import the dataset1_lab02.csv\n",
        "sample = pd.read_csv('/content/drive/MyDrive/dataset1_lab02.csv',header=None)\n",
        "\n",
        "# Print out sample\n",
        "print(sample)"
      ],
      "metadata": {
        "colab": {
          "base_uri": "https://localhost:8080/"
        },
        "id": "KTQT_8fZQEK_",
        "outputId": "fb94d030-395a-4373-8812-426e9f37fdb9"
      },
      "execution_count": null,
      "outputs": [
        {
          "output_type": "stream",
          "name": "stdout",
          "text": [
            "     0\n",
            "0   40\n",
            "1   40\n",
            "2   50\n",
            "3   50\n",
            "4   63\n",
            "5   63\n",
            "6   70\n",
            "7   77\n",
            "8   83\n",
            "9   83\n",
            "10  83\n",
            "11  83\n",
            "12  83\n",
            "13  87\n",
            "14  87\n",
            "15  87\n",
            "16  93\n",
            "17  93\n",
            "18  93\n"
          ]
        }
      ]
    },
    {
      "cell_type": "code",
      "source": [
        "sample"
      ],
      "metadata": {
        "colab": {
          "base_uri": "https://localhost:8080/",
          "height": 645
        },
        "id": "vkumMJoPDDs9",
        "outputId": "83f5ca08-db6a-4aea-e1f3-8f029a7e7ed6"
      },
      "execution_count": null,
      "outputs": [
        {
          "output_type": "execute_result",
          "data": {
            "text/plain": [
              "     0\n",
              "0   40\n",
              "1   40\n",
              "2   50\n",
              "3   50\n",
              "4   63\n",
              "5   63\n",
              "6   70\n",
              "7   77\n",
              "8   83\n",
              "9   83\n",
              "10  83\n",
              "11  83\n",
              "12  83\n",
              "13  87\n",
              "14  87\n",
              "15  87\n",
              "16  93\n",
              "17  93\n",
              "18  93"
            ],
            "text/html": [
              "\n",
              "  <div id=\"df-5eac2aa1-fca2-45bb-9640-693478e7a12e\">\n",
              "    <div class=\"colab-df-container\">\n",
              "      <div>\n",
              "<style scoped>\n",
              "    .dataframe tbody tr th:only-of-type {\n",
              "        vertical-align: middle;\n",
              "    }\n",
              "\n",
              "    .dataframe tbody tr th {\n",
              "        vertical-align: top;\n",
              "    }\n",
              "\n",
              "    .dataframe thead th {\n",
              "        text-align: right;\n",
              "    }\n",
              "</style>\n",
              "<table border=\"1\" class=\"dataframe\">\n",
              "  <thead>\n",
              "    <tr style=\"text-align: right;\">\n",
              "      <th></th>\n",
              "      <th>0</th>\n",
              "    </tr>\n",
              "  </thead>\n",
              "  <tbody>\n",
              "    <tr>\n",
              "      <th>0</th>\n",
              "      <td>40</td>\n",
              "    </tr>\n",
              "    <tr>\n",
              "      <th>1</th>\n",
              "      <td>40</td>\n",
              "    </tr>\n",
              "    <tr>\n",
              "      <th>2</th>\n",
              "      <td>50</td>\n",
              "    </tr>\n",
              "    <tr>\n",
              "      <th>3</th>\n",
              "      <td>50</td>\n",
              "    </tr>\n",
              "    <tr>\n",
              "      <th>4</th>\n",
              "      <td>63</td>\n",
              "    </tr>\n",
              "    <tr>\n",
              "      <th>5</th>\n",
              "      <td>63</td>\n",
              "    </tr>\n",
              "    <tr>\n",
              "      <th>6</th>\n",
              "      <td>70</td>\n",
              "    </tr>\n",
              "    <tr>\n",
              "      <th>7</th>\n",
              "      <td>77</td>\n",
              "    </tr>\n",
              "    <tr>\n",
              "      <th>8</th>\n",
              "      <td>83</td>\n",
              "    </tr>\n",
              "    <tr>\n",
              "      <th>9</th>\n",
              "      <td>83</td>\n",
              "    </tr>\n",
              "    <tr>\n",
              "      <th>10</th>\n",
              "      <td>83</td>\n",
              "    </tr>\n",
              "    <tr>\n",
              "      <th>11</th>\n",
              "      <td>83</td>\n",
              "    </tr>\n",
              "    <tr>\n",
              "      <th>12</th>\n",
              "      <td>83</td>\n",
              "    </tr>\n",
              "    <tr>\n",
              "      <th>13</th>\n",
              "      <td>87</td>\n",
              "    </tr>\n",
              "    <tr>\n",
              "      <th>14</th>\n",
              "      <td>87</td>\n",
              "    </tr>\n",
              "    <tr>\n",
              "      <th>15</th>\n",
              "      <td>87</td>\n",
              "    </tr>\n",
              "    <tr>\n",
              "      <th>16</th>\n",
              "      <td>93</td>\n",
              "    </tr>\n",
              "    <tr>\n",
              "      <th>17</th>\n",
              "      <td>93</td>\n",
              "    </tr>\n",
              "    <tr>\n",
              "      <th>18</th>\n",
              "      <td>93</td>\n",
              "    </tr>\n",
              "  </tbody>\n",
              "</table>\n",
              "</div>\n",
              "      <button class=\"colab-df-convert\" onclick=\"convertToInteractive('df-5eac2aa1-fca2-45bb-9640-693478e7a12e')\"\n",
              "              title=\"Convert this dataframe to an interactive table.\"\n",
              "              style=\"display:none;\">\n",
              "        \n",
              "  <svg xmlns=\"http://www.w3.org/2000/svg\" height=\"24px\"viewBox=\"0 0 24 24\"\n",
              "       width=\"24px\">\n",
              "    <path d=\"M0 0h24v24H0V0z\" fill=\"none\"/>\n",
              "    <path d=\"M18.56 5.44l.94 2.06.94-2.06 2.06-.94-2.06-.94-.94-2.06-.94 2.06-2.06.94zm-11 1L8.5 8.5l.94-2.06 2.06-.94-2.06-.94L8.5 2.5l-.94 2.06-2.06.94zm10 10l.94 2.06.94-2.06 2.06-.94-2.06-.94-.94-2.06-.94 2.06-2.06.94z\"/><path d=\"M17.41 7.96l-1.37-1.37c-.4-.4-.92-.59-1.43-.59-.52 0-1.04.2-1.43.59L10.3 9.45l-7.72 7.72c-.78.78-.78 2.05 0 2.83L4 21.41c.39.39.9.59 1.41.59.51 0 1.02-.2 1.41-.59l7.78-7.78 2.81-2.81c.8-.78.8-2.07 0-2.86zM5.41 20L4 18.59l7.72-7.72 1.47 1.35L5.41 20z\"/>\n",
              "  </svg>\n",
              "      </button>\n",
              "      \n",
              "  <style>\n",
              "    .colab-df-container {\n",
              "      display:flex;\n",
              "      flex-wrap:wrap;\n",
              "      gap: 12px;\n",
              "    }\n",
              "\n",
              "    .colab-df-convert {\n",
              "      background-color: #E8F0FE;\n",
              "      border: none;\n",
              "      border-radius: 50%;\n",
              "      cursor: pointer;\n",
              "      display: none;\n",
              "      fill: #1967D2;\n",
              "      height: 32px;\n",
              "      padding: 0 0 0 0;\n",
              "      width: 32px;\n",
              "    }\n",
              "\n",
              "    .colab-df-convert:hover {\n",
              "      background-color: #E2EBFA;\n",
              "      box-shadow: 0px 1px 2px rgba(60, 64, 67, 0.3), 0px 1px 3px 1px rgba(60, 64, 67, 0.15);\n",
              "      fill: #174EA6;\n",
              "    }\n",
              "\n",
              "    [theme=dark] .colab-df-convert {\n",
              "      background-color: #3B4455;\n",
              "      fill: #D2E3FC;\n",
              "    }\n",
              "\n",
              "    [theme=dark] .colab-df-convert:hover {\n",
              "      background-color: #434B5C;\n",
              "      box-shadow: 0px 1px 3px 1px rgba(0, 0, 0, 0.15);\n",
              "      filter: drop-shadow(0px 1px 2px rgba(0, 0, 0, 0.3));\n",
              "      fill: #FFFFFF;\n",
              "    }\n",
              "  </style>\n",
              "\n",
              "      <script>\n",
              "        const buttonEl =\n",
              "          document.querySelector('#df-5eac2aa1-fca2-45bb-9640-693478e7a12e button.colab-df-convert');\n",
              "        buttonEl.style.display =\n",
              "          google.colab.kernel.accessAllowed ? 'block' : 'none';\n",
              "\n",
              "        async function convertToInteractive(key) {\n",
              "          const element = document.querySelector('#df-5eac2aa1-fca2-45bb-9640-693478e7a12e');\n",
              "          const dataTable =\n",
              "            await google.colab.kernel.invokeFunction('convertToInteractive',\n",
              "                                                     [key], {});\n",
              "          if (!dataTable) return;\n",
              "\n",
              "          const docLinkHtml = 'Like what you see? Visit the ' +\n",
              "            '<a target=\"_blank\" href=https://colab.research.google.com/notebooks/data_table.ipynb>data table notebook</a>'\n",
              "            + ' to learn more about interactive tables.';\n",
              "          element.innerHTML = '';\n",
              "          dataTable['output_type'] = 'display_data';\n",
              "          await google.colab.output.renderOutput(dataTable, element);\n",
              "          const docLink = document.createElement('div');\n",
              "          docLink.innerHTML = docLinkHtml;\n",
              "          element.appendChild(docLink);\n",
              "        }\n",
              "      </script>\n",
              "    </div>\n",
              "  </div>\n",
              "  "
            ]
          },
          "metadata": {},
          "execution_count": 12
        }
      ]
    },
    {
      "cell_type": "code",
      "source": [
        "# Import pandas as pd\n",
        "import pandas as pd\n",
        "\n",
        "# Import the dataset1_lab02.csv\n",
        "sample = pd.read_csv('/content/drive/MyDrive/dataset1_lab02.csv',header=None)\n",
        "\n",
        "# Print out sample\n",
        "print(sample[0:4])\n",
        "print(sample[10:17])"
      ],
      "metadata": {
        "colab": {
          "base_uri": "https://localhost:8080/"
        },
        "outputId": "ec73111f-4bd6-4f58-fbee-3d6b8164f96c",
        "id": "3SIdWSmIXzFw"
      },
      "execution_count": null,
      "outputs": [
        {
          "output_type": "stream",
          "name": "stdout",
          "text": [
            "    0\n",
            "0  40\n",
            "1  40\n",
            "2  50\n",
            "3  50\n",
            "     0\n",
            "10  83\n",
            "11  83\n",
            "12  83\n",
            "13  87\n",
            "14  87\n",
            "15  87\n",
            "16  93\n"
          ]
        }
      ]
    }
  ]
}
