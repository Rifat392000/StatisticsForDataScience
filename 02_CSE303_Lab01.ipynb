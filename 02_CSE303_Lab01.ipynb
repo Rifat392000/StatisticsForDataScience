{
  "nbformat": 4,
  "nbformat_minor": 0,
  "metadata": {
    "colab": {
      "provenance": []
    },
    "kernelspec": {
      "name": "python3",
      "display_name": "Python 3"
    },
    "language_info": {
      "name": "python"
    }
  },
  "cells": [
    {
      "cell_type": "markdown",
      "source": [
        "### **Problem 1**\n",
        "\n",
        "\n",
        "\n"
      ],
      "metadata": {
        "id": "0G75HGdlD0DR"
      }
    },
    {
      "cell_type": "code",
      "source": [
        "def product_sum(n1,n2):\n",
        "  if (n1*n2)>1000:\n",
        "    return n1+n2\n",
        "  else:\n",
        "    return n1*n2\n",
        "\n",
        "n1=int(input(\"Enter First Number : \"))\n",
        "n2=int(input(\"Enter Second Number : \"))\n",
        "d=product_sum(n1,n2)\n",
        "print(d)"
      ],
      "metadata": {
        "id": "YXLg-nOJEDrv",
        "colab": {
          "base_uri": "https://localhost:8080/"
        },
        "outputId": "768eee92-0fb0-46f6-a629-11c8d793c87a"
      },
      "execution_count": 1,
      "outputs": [
        {
          "output_type": "stream",
          "name": "stdout",
          "text": [
            "Enter First Number : 15\n",
            "Enter Second Number : 10354\n",
            "10369\n"
          ]
        }
      ]
    },
    {
      "cell_type": "markdown",
      "source": [
        "### **Problem 2**"
      ],
      "metadata": {
        "id": "HfwB2PFIFw0_"
      }
    },
    {
      "cell_type": "code",
      "source": [
        "num=int(input(\"Enter your number : \"))\n",
        "area=3.1416*pow(num,2)\n",
        "perimeter=2*3.1416*num\n",
        "print(\"Area is %f\"%area)\n",
        "print(\"Perimeter is %f\"%perimeter)"
      ],
      "metadata": {
        "colab": {
          "base_uri": "https://localhost:8080/"
        },
        "id": "sWkKZbIzF2I4",
        "outputId": "c1f8b063-3643-42c7-eb75-4c054f7dea96"
      },
      "execution_count": 2,
      "outputs": [
        {
          "output_type": "stream",
          "name": "stdout",
          "text": [
            "Enter your number : 12\n",
            "Area is 452.390400\n",
            "Perimeter is 75.398400\n"
          ]
        }
      ]
    },
    {
      "cell_type": "markdown",
      "source": [
        "### **Problem 3**"
      ],
      "metadata": {
        "id": "6OFEe7tmIrD2"
      }
    },
    {
      "cell_type": "code",
      "source": [
        "P=float(input(\"principle amount : \"))\n",
        "R=float(input(\"Interest Rate : \"))\n",
        "T=float(input(\"Time : \"))\n",
        "A=P*pow((1+R/100),T)\n",
        "print(A)"
      ],
      "metadata": {
        "colab": {
          "base_uri": "https://localhost:8080/"
        },
        "id": "kSMkrcFjIvT5",
        "outputId": "bd3f1f7c-9c16-4b5d-c46f-525338a5e8c7"
      },
      "execution_count": 3,
      "outputs": [
        {
          "output_type": "stream",
          "name": "stdout",
          "text": [
            "principle amount : 45000\n",
            "Interest Rate : 4.5\n",
            "Time : 5\n",
            "56078.18719439061\n"
          ]
        }
      ]
    },
    {
      "cell_type": "markdown",
      "source": [
        "### **Problem 4**"
      ],
      "metadata": {
        "id": "U5JRx2R8J5OR"
      }
    },
    {
      "cell_type": "code",
      "source": [
        "num=int(input(\"Enter your number : \"))\n",
        "sum=0\n",
        "#range is zero based index\n",
        "for i in range(1,num+1,1):\n",
        "  sum+=i**2\n",
        "print(sum)"
      ],
      "metadata": {
        "colab": {
          "base_uri": "https://localhost:8080/"
        },
        "id": "zTFRRhlIJ8PB",
        "outputId": "5d5cae06-c255-4a27-a6f9-3e0dc91e64bc"
      },
      "execution_count": 4,
      "outputs": [
        {
          "output_type": "stream",
          "name": "stdout",
          "text": [
            "Enter your number : 35\n",
            "14910\n"
          ]
        }
      ]
    },
    {
      "cell_type": "markdown",
      "source": [
        "### **Problem 5**"
      ],
      "metadata": {
        "id": "Nim6DhjBLGOx"
      }
    },
    {
      "cell_type": "code",
      "source": [
        "def prime_find_2020160215(num):\n",
        "  sum=0\n",
        "  for i in range(1,num+1,1):\n",
        "    if(num%i==0):\n",
        "      sum+=1\n",
        "  if(sum==2):\n",
        "   print(\"Prime\")\n",
        "  elif(sum>2):\n",
        "   print(\"Not Prime\")\n",
        "num=int(input(\"Enter your number : \"))\n",
        "prime_find_2020160215(num)"
      ],
      "metadata": {
        "colab": {
          "base_uri": "https://localhost:8080/"
        },
        "id": "sntC_X6eLKmf",
        "outputId": "d7e4269a-3930-4c67-c52f-eff28d32b14f"
      },
      "execution_count": 5,
      "outputs": [
        {
          "output_type": "stream",
          "name": "stdout",
          "text": [
            "Enter your number : 459\n",
            "Not Prime\n"
          ]
        }
      ]
    },
    {
      "cell_type": "markdown",
      "source": [
        "### **Problem 6**"
      ],
      "metadata": {
        "id": "8snwwuXXNJKQ"
      }
    },
    {
      "cell_type": "code",
      "source": [
        "num = int(input(\"Enter your num: \"))\n",
        "f0=0\n",
        "f1=1\n",
        "for i in range(2,num+1,1):\n",
        " res=f0+f1\n",
        " f0=f1\n",
        " f1=res\n",
        "print(res)\n"
      ],
      "metadata": {
        "colab": {
          "base_uri": "https://localhost:8080/"
        },
        "id": "LphVxjYJNMQe",
        "outputId": "8fae92e7-f59b-40b4-b82b-6c4321c6def9"
      },
      "execution_count": 6,
      "outputs": [
        {
          "output_type": "stream",
          "name": "stdout",
          "text": [
            "Enter your num: 45\n",
            "1134903170\n"
          ]
        }
      ]
    },
    {
      "cell_type": "markdown",
      "source": [
        "### **Problem 7**"
      ],
      "metadata": {
        "id": "q5GWl3ggNtj3"
      }
    },
    {
      "cell_type": "code",
      "source": [
        "List=[2,3,5,7,8,10]\n",
        "sum=0\n",
        "for i in List:\n",
        "  sum+=i\n",
        "print(sum)"
      ],
      "metadata": {
        "colab": {
          "base_uri": "https://localhost:8080/"
        },
        "id": "P1BpfrsLNw9G",
        "outputId": "88794360-bda0-48ed-d428-7847067e6740"
      },
      "execution_count": 7,
      "outputs": [
        {
          "output_type": "stream",
          "name": "stdout",
          "text": [
            "35\n"
          ]
        }
      ]
    },
    {
      "cell_type": "markdown",
      "source": [
        "### **Problem 8**"
      ],
      "metadata": {
        "id": "dLzZZwlKOS-O"
      }
    },
    {
      "cell_type": "code",
      "source": [
        "List=[2,3,5,7,8,10]\n",
        "sum_of_even=0\n",
        "#range is zero based index\n",
        "for i in range(len(List)):\n",
        "  if(i%2==0):\n",
        "   sum_of_even+=List[i]\n",
        "print(sum_of_even)"
      ],
      "metadata": {
        "colab": {
          "base_uri": "https://localhost:8080/"
        },
        "id": "1yMQ-VxXObCE",
        "outputId": "5ba54f99-4add-45b0-a105-7f4728f7bd43"
      },
      "execution_count": 8,
      "outputs": [
        {
          "output_type": "stream",
          "name": "stdout",
          "text": [
            "15\n"
          ]
        }
      ]
    },
    {
      "cell_type": "markdown",
      "source": [
        "### **Problem 9**"
      ],
      "metadata": {
        "id": "BCTtksPsUfKM"
      }
    },
    {
      "cell_type": "code",
      "source": [
        "List=[]\n",
        "def largest_number_2020160215():\n",
        "  max=List[0]\n",
        "  for i in range(1,len(List)):\n",
        "    if(max<List[i]):\n",
        "      max=List[i]\n",
        "  print(\"Max is %d\"%max)\n",
        "def smallest_number_2020160215():\n",
        "  min=List[0]\n",
        "  for i in range(1,len(List)):\n",
        "    if(min>List[i]):\n",
        "      min=List[i]\n",
        "  print(\"Min is %d\"%min)\n",
        "num = int(input(\"Input the list Size: \"))\n",
        "for i in range(0,num):\n",
        "  print(\"Enter %d index value\"%i)\n",
        "  item=int(input())\n",
        "  List.append(item)\n",
        "largest_number_2020160215()\n",
        "smallest_number_2020160215()"
      ],
      "metadata": {
        "colab": {
          "base_uri": "https://localhost:8080/"
        },
        "id": "sKId9kGVUiCU",
        "outputId": "2f92ae03-ea66-4114-e4c5-23d3fe66db8e"
      },
      "execution_count": 10,
      "outputs": [
        {
          "output_type": "stream",
          "name": "stdout",
          "text": [
            "Input the list Size: 5\n",
            "Enter 0 index value\n",
            "25\n",
            "Enter 1 index value\n",
            "45\n",
            "Enter 2 index value\n",
            "12\n",
            "Enter 3 index value\n",
            "56\n",
            "Enter 4 index value\n",
            "44\n",
            "Max is 56\n",
            "Min is 12\n"
          ]
        }
      ]
    },
    {
      "cell_type": "markdown",
      "source": [
        "### **Problem 10**"
      ],
      "metadata": {
        "id": "bDAQiOhFYRB_"
      }
    },
    {
      "cell_type": "code",
      "source": [
        "max=List[0]\n",
        "for i in range(1,len(List)):\n",
        "  if(max<List[i]):\n",
        "    max=List[i]\n",
        "second_max=List[0]\n",
        "for i in range(1,len(List)):\n",
        "  if(second_max<List[i] and second_max !=max and List[i] !=max):\n",
        "    second_max=List[i]\n",
        "print(second_max)"
      ],
      "metadata": {
        "colab": {
          "base_uri": "https://localhost:8080/"
        },
        "id": "b6D85qEZYa-D",
        "outputId": "bfa93971-11d1-4ecf-c93f-f789625f127d"
      },
      "execution_count": 11,
      "outputs": [
        {
          "output_type": "stream",
          "name": "stdout",
          "text": [
            "45\n"
          ]
        }
      ]
    },
    {
      "cell_type": "markdown",
      "source": [
        "### **Problem 11**"
      ],
      "metadata": {
        "id": "X91IRd0raEwj"
      }
    },
    {
      "cell_type": "code",
      "source": [
        "my_string=input(\"Enter a String : \")\n",
        "evenchar=[]\n",
        "for i in range(len(my_string)):\n",
        "  if i%2==0:\n",
        "    evenchar.append(my_string[i])\n",
        "print(evenchar)"
      ],
      "metadata": {
        "colab": {
          "base_uri": "https://localhost:8080/"
        },
        "id": "YVQrNTu4aJZ-",
        "outputId": "42043eb0-f113-4bca-8591-789c0f02770c"
      },
      "execution_count": 12,
      "outputs": [
        {
          "output_type": "stream",
          "name": "stdout",
          "text": [
            "Enter a String : Rifat\n",
            "['R', 'f', 't']\n"
          ]
        }
      ]
    },
    {
      "cell_type": "markdown",
      "source": [
        "### **Problem 12**"
      ],
      "metadata": {
        "id": "Pkgo-p2WbrMc"
      }
    },
    {
      "cell_type": "code",
      "source": [
        "my_string=input(\"Enter a String : \")\n",
        "num = int(input(\"Enter your number : \"))\n",
        "new_string=\" \"\n",
        "for i in range(num,len(my_string)):\n",
        "  new_string+=my_string[i]\n",
        "print(new_string)"
      ],
      "metadata": {
        "colab": {
          "base_uri": "https://localhost:8080/"
        },
        "id": "GiJa-e2qbuVr",
        "outputId": "845650d4-9507-4999-b81e-583ea0fa2837"
      },
      "execution_count": 13,
      "outputs": [
        {
          "output_type": "stream",
          "name": "stdout",
          "text": [
            "Enter a String : Rifat loves his family\n",
            "Enter your number : 12\n",
            " his family\n"
          ]
        }
      ]
    },
    {
      "cell_type": "markdown",
      "source": [
        "### **Problem 13**"
      ],
      "metadata": {
        "id": "on4mQijYcJIa"
      }
    },
    {
      "cell_type": "code",
      "source": [
        "my_string=input(\"Enter a String : \")\n",
        "count=0\n",
        "for i in range(len(my_string)):\n",
        "  if my_string[i]=='C'and my_string[i+1]=='S'and my_string[i+2]=='E'and my_string[i+3]=='3'and my_string[i+4]=='0' and my_string[i+5]=='3':\n",
        "    count+=1\n",
        "    i+=6\n",
        "print(count)\n"
      ],
      "metadata": {
        "id": "xPipHQM-cMem",
        "colab": {
          "base_uri": "https://localhost:8080/"
        },
        "outputId": "13e3ee07-83c7-4459-c0d2-9e6c7ca24ccb"
      },
      "execution_count": 14,
      "outputs": [
        {
          "output_type": "stream",
          "name": "stdout",
          "text": [
            "Enter a String : Hello World\n",
            "0\n"
          ]
        }
      ]
    },
    {
      "cell_type": "markdown",
      "source": [
        "### **Problem 14**"
      ],
      "metadata": {
        "id": "MqGAGuIicp6I"
      }
    },
    {
      "cell_type": "code",
      "source": [
        "def palindrome_checker_2020160215(my_string):\n",
        "  pl_s=my_string[::-1]\n",
        "  if(pl_s==my_string):\n",
        "    print(\"Palindrome\")\n",
        "  else:\n",
        "    print(\"Not Palindrome\")\n",
        "my_string=input(\"Enter a String : \")\n",
        "palindrome_checker_2020160215(my_string)"
      ],
      "metadata": {
        "colab": {
          "base_uri": "https://localhost:8080/"
        },
        "id": "yKRpD39sctEz",
        "outputId": "ab216bff-7aad-4c15-b4fa-b4bd27fa4e7d"
      },
      "execution_count": 15,
      "outputs": [
        {
          "output_type": "stream",
          "name": "stdout",
          "text": [
            "Enter a String : MOM\n",
            "Palindrome\n"
          ]
        }
      ]
    },
    {
      "cell_type": "markdown",
      "source": [
        "### **Problem 15**"
      ],
      "metadata": {
        "id": "vylvc-wdcuDt"
      }
    },
    {
      "cell_type": "code",
      "source": [
        "L1=[2,4,7,9,5,6,35,48]\n",
        "L2=[24,21,87,65,31,1,74,48]\n",
        "new_list=[]\n",
        "for i in L1:\n",
        "  if(i%2!=0):\n",
        "    new_list.append(i)\n",
        "for i in L2:\n",
        "  if(i%2==0):\n",
        "    new_list.append(i)\n",
        "print(new_list)"
      ],
      "metadata": {
        "colab": {
          "base_uri": "https://localhost:8080/"
        },
        "id": "knolrgBUcxZq",
        "outputId": "d5a9d684-d40b-4e16-bf18-2a3b7c242c31"
      },
      "execution_count": 16,
      "outputs": [
        {
          "output_type": "stream",
          "name": "stdout",
          "text": [
            "[7, 9, 5, 35, 24, 74, 48]\n"
          ]
        }
      ]
    }
  ]
}
