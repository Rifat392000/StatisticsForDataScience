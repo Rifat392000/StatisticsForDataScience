{
  "nbformat": 4,
  "nbformat_minor": 0,
  "metadata": {
    "colab": {
      "provenance": []
    },
    "kernelspec": {
      "name": "python3",
      "display_name": "Python 3"
    },
    "language_info": {
      "name": "python"
    }
  },
  "cells": [
    {
      "cell_type": "code",
      "execution_count": 1,
      "metadata": {
        "id": "JIJVBiBJyCgJ"
      },
      "outputs": [],
      "source": [
        "import pandas as pd\n",
        "import numpy as np\n",
        "from scipy import stats"
      ]
    },
    {
      "cell_type": "code",
      "source": [
        "def check_normality(data):\n",
        "  test_stat_normality, p_value_normality=stats.shapiro(data)\n",
        "  print(\"p value : %.4f\"%p_value_normality)\n",
        "  if p_value_normality<0.05:\n",
        "    print(\"Reject null hypothesis >> The data is not normally distributed\")\n",
        "  else:\n",
        "    print(\"Fail to reject null hypothesis >> The data is normally distributed\")"
      ],
      "metadata": {
        "id": "V1fYjY0581CH"
      },
      "execution_count": 2,
      "outputs": []
    },
    {
      "cell_type": "code",
      "source": [
        "def check_variance_homoginity(group1,group2):\n",
        "  test_stat_var,p_value_var=stats.levene(group1,group2)\n",
        "  print(\"p value : %.4f\"%p_value_var)\n",
        "  if p_value_var<0.05:\n",
        "    print(\"Reject null hypothesis >> The variances of the samples are different.\")\n",
        "  else:\n",
        "     print(\"Fail Reject null hypothesis >> The variances of the samples are same.\")"
      ],
      "metadata": {
        "id": "xIdNb_Gp_peb"
      },
      "execution_count": 3,
      "outputs": []
    },
    {
      "cell_type": "code",
      "source": [
        "def P_value(x,y):\n",
        "  ttest,p_value = stats.ttest_ind(x,y)\n",
        "  print(\"p value:%.8f\" % p_value)\n",
        "  print(\"since the hypothesis is one sided >> use p_value/2 >> p_value_one_sided:%.4f\" %(p_value/2))\n",
        "  if p_value/2 <0.05:\n",
        "      print(\"Reject null hypothesis\")\n",
        "  else:\n",
        "      print(\"Fail to reject null hypothesis\")"
      ],
      "metadata": {
        "id": "5Mb4TbgrBXsD"
      },
      "execution_count": 4,
      "outputs": []
    },
    {
      "cell_type": "code",
      "source": [
        "sync = np.array([94,84.9,82.6,69.5,80.1,79.6,81.4,77.8,81.7,78.8,73.2,87.9,87.9,93.5,82.3,79.3,78.3,71.6,88.6,74.6,74.1,80.6])\n",
        "asyncr=np.array([77.1, 71.7, 91. , 72.2, 74.8, 85.1, 67.6, 69.9, 75.3, 71.7, 65.7, 72.6, 71.5, 78.2])"
      ],
      "metadata": {
        "id": "3XXJ6iQ5-Ifl"
      },
      "execution_count": 5,
      "outputs": []
    },
    {
      "cell_type": "code",
      "source": [
        "check_normality(sync)\n",
        "check_normality(asyncr)"
      ],
      "metadata": {
        "colab": {
          "base_uri": "https://localhost:8080/"
        },
        "id": "819aDkqi_a5T",
        "outputId": "d79a55c6-9cc8-48c2-93f3-2ec944ff6510"
      },
      "execution_count": 7,
      "outputs": [
        {
          "output_type": "stream",
          "name": "stdout",
          "text": [
            "p value : 0.6556\n",
            "Fail to reject null hypothesis >> The data is normally distributed\n",
            "p value : 0.0803\n",
            "Fail to reject null hypothesis >> The data is normally distributed\n"
          ]
        }
      ]
    },
    {
      "cell_type": "code",
      "source": [
        "check_variance_homoginity(sync,asyncr)"
      ],
      "metadata": {
        "colab": {
          "base_uri": "https://localhost:8080/"
        },
        "id": "M_Ne83ZxBLzG",
        "outputId": "c589ceca-84eb-453c-baf9-e7ad54cfcf9a"
      },
      "execution_count": 8,
      "outputs": [
        {
          "output_type": "stream",
          "name": "stdout",
          "text": [
            "p value : 0.8149\n",
            "Fail Reject null hypothesis >> The variances of the samples are same.\n"
          ]
        }
      ]
    },
    {
      "cell_type": "code",
      "source": [
        "P_value(sync,asyncr)"
      ],
      "metadata": {
        "colab": {
          "base_uri": "https://localhost:8080/"
        },
        "id": "UWVP9H3lq9Ie",
        "outputId": "fe84e18d-49ab-4e82-c41f-8baaae397f38"
      },
      "execution_count": 9,
      "outputs": [
        {
          "output_type": "stream",
          "name": "stdout",
          "text": [
            "p value:0.00753598\n",
            "since the hypothesis is one sided >> use p_value/2 >> p_value_one_sided:0.0038\n",
            "Reject null hypothesis\n"
          ]
        }
      ]
    },
    {
      "cell_type": "markdown",
      "source": [
        "# **Case 1**"
      ],
      "metadata": {
        "id": "7kkb4UQ7DD4c"
      }
    },
    {
      "cell_type": "code",
      "source": [
        "Dataset1=np.array([1, 2, 2, 7, 8])\n",
        "Dataset2=np.array([ 2, 4, 5, 9, 10])"
      ],
      "metadata": {
        "id": "nHsUXRlWDJ9j"
      },
      "execution_count": 10,
      "outputs": []
    },
    {
      "cell_type": "code",
      "source": [
        "check_normality(Dataset1)\n",
        "check_normality(Dataset2)"
      ],
      "metadata": {
        "colab": {
          "base_uri": "https://localhost:8080/"
        },
        "id": "rUdpf9yADdTy",
        "outputId": "32e7e5aa-7329-4478-c75b-5e5f5c695191"
      },
      "execution_count": 11,
      "outputs": [
        {
          "output_type": "stream",
          "name": "stdout",
          "text": [
            "p value : 0.1115\n",
            "Fail to reject null hypothesis >> The data is normally distributed\n",
            "p value : 0.5644\n",
            "Fail to reject null hypothesis >> The data is normally distributed\n"
          ]
        }
      ]
    },
    {
      "cell_type": "code",
      "source": [
        "check_variance_homoginity(Dataset1,Dataset2)"
      ],
      "metadata": {
        "colab": {
          "base_uri": "https://localhost:8080/"
        },
        "id": "6wC-6RRLDvMr",
        "outputId": "d2f5b464-8330-498f-d576-daa76c5cf518"
      },
      "execution_count": 12,
      "outputs": [
        {
          "output_type": "stream",
          "name": "stdout",
          "text": [
            "p value : 0.9029\n",
            "Fail Reject null hypothesis >> The variances of the samples are same.\n"
          ]
        }
      ]
    },
    {
      "cell_type": "code",
      "source": [
        "P_value(Dataset1,Dataset2)"
      ],
      "metadata": {
        "colab": {
          "base_uri": "https://localhost:8080/"
        },
        "id": "Fk13ayXkD1xK",
        "outputId": "28b38526-7582-4409-8c2d-6163db15b6e0"
      },
      "execution_count": 13,
      "outputs": [
        {
          "output_type": "stream",
          "name": "stdout",
          "text": [
            "p value:0.36827251\n",
            "since the hypothesis is one sided >> use p_value/2 >> p_value_one_sided:0.1841\n",
            "Fail to reject null hypothesis\n"
          ]
        }
      ]
    },
    {
      "cell_type": "markdown",
      "source": [
        "# **Case 2**"
      ],
      "metadata": {
        "id": "Qkj6hHGhs6cN"
      }
    },
    {
      "cell_type": "code",
      "source": [
        "Data1=np.array([1, 2, 2, 3, 3, 4, 4, 5, 5, 6])\n",
        "Data2=np.array([1, 2, 4, 5, 5, 5, 6, 6, 7, 9])"
      ],
      "metadata": {
        "id": "p-lig9YREmRL"
      },
      "execution_count": 14,
      "outputs": []
    },
    {
      "cell_type": "code",
      "source": [
        "check_normality(Data1)\n",
        "check_normality(Data2)"
      ],
      "metadata": {
        "colab": {
          "base_uri": "https://localhost:8080/"
        },
        "id": "7nDAML5BFF1z",
        "outputId": "df355347-eab1-442d-c88d-2f9c85daed64"
      },
      "execution_count": 15,
      "outputs": [
        {
          "output_type": "stream",
          "name": "stdout",
          "text": [
            "p value : 0.8486\n",
            "Fail to reject null hypothesis >> The data is normally distributed\n",
            "p value : 0.7789\n",
            "Fail to reject null hypothesis >> The data is normally distributed\n"
          ]
        }
      ]
    },
    {
      "cell_type": "code",
      "source": [
        "check_variance_homoginity(Data1,Data2)"
      ],
      "metadata": {
        "colab": {
          "base_uri": "https://localhost:8080/"
        },
        "id": "Ql89bxcCFRCr",
        "outputId": "2e131287-65a0-40ac-df4e-8ee775f4d1e1"
      },
      "execution_count": 16,
      "outputs": [
        {
          "output_type": "stream",
          "name": "stdout",
          "text": [
            "p value : 0.5973\n",
            "Fail Reject null hypothesis >> The variances of the samples are same.\n"
          ]
        }
      ]
    },
    {
      "cell_type": "code",
      "source": [
        "P_value(Data1,Data2)"
      ],
      "metadata": {
        "colab": {
          "base_uri": "https://localhost:8080/"
        },
        "id": "s2uQMWtuFUDy",
        "outputId": "7cf70f1f-4ca4-40d5-9c08-39e25adfd34b"
      },
      "execution_count": 17,
      "outputs": [
        {
          "output_type": "stream",
          "name": "stdout",
          "text": [
            "p value:0.10734389\n",
            "since the hypothesis is one sided >> use p_value/2 >> p_value_one_sided:0.0537\n",
            "Fail to reject null hypothesis\n"
          ]
        }
      ]
    },
    {
      "cell_type": "markdown",
      "source": [
        "# **Case 3**"
      ],
      "metadata": {
        "id": "r3KyIeo8FaXr"
      }
    },
    {
      "cell_type": "code",
      "source": [
        "rand1=np.array([52,82.4,72,96,115,122])\n",
        "rand2=np.array([4,18,15,17,19])"
      ],
      "metadata": {
        "id": "uDLGPpAkFZPS"
      },
      "execution_count": 18,
      "outputs": []
    },
    {
      "cell_type": "code",
      "source": [
        "check_normality(rand1)\n",
        "check_normality(rand2)"
      ],
      "metadata": {
        "colab": {
          "base_uri": "https://localhost:8080/"
        },
        "id": "PFOUJ0bRF8Oa",
        "outputId": "19305e8d-defc-4da4-837d-06e4f7ebee9a"
      },
      "execution_count": 19,
      "outputs": [
        {
          "output_type": "stream",
          "name": "stdout",
          "text": [
            "p value : 0.8749\n",
            "Fail to reject null hypothesis >> The data is normally distributed\n",
            "p value : 0.0420\n",
            "Reject null hypothesis >> The data is not normally distributed\n"
          ]
        }
      ]
    },
    {
      "cell_type": "code",
      "source": [
        "check_variance_homoginity(rand1,rand1)"
      ],
      "metadata": {
        "colab": {
          "base_uri": "https://localhost:8080/"
        },
        "id": "WCniILLIGGD6",
        "outputId": "e335f9b6-b6b4-479f-ac7b-2c165e298395"
      },
      "execution_count": 20,
      "outputs": [
        {
          "output_type": "stream",
          "name": "stdout",
          "text": [
            "p value : 1.0000\n",
            "Fail Reject null hypothesis >> The variances of the samples are same.\n"
          ]
        }
      ]
    },
    {
      "cell_type": "code",
      "source": [
        "P_value(rand1,rand2)"
      ],
      "metadata": {
        "colab": {
          "base_uri": "https://localhost:8080/"
        },
        "id": "MjuRwVO0GLB5",
        "outputId": "6630bbc1-6c2e-4d62-c7ad-74c9da63c906"
      },
      "execution_count": 21,
      "outputs": [
        {
          "output_type": "stream",
          "name": "stdout",
          "text": [
            "p value:0.00016538\n",
            "since the hypothesis is one sided >> use p_value/2 >> p_value_one_sided:0.0001\n",
            "Reject null hypothesis\n"
          ]
        }
      ]
    }
  ]
}