{
  "nbformat": 4,
  "nbformat_minor": 0,
  "metadata": {
    "colab": {
      "provenance": []
    },
    "kernelspec": {
      "name": "python3",
      "display_name": "Python 3"
    },
    "language_info": {
      "name": "python"
    }
  },
  "cells": [
    {
      "cell_type": "code",
      "execution_count": 1,
      "metadata": {
        "id": "irhpWptJzsOD"
      },
      "outputs": [],
      "source": [
        "import numpy as np\n",
        "import matplotlib.pyplot as plt"
      ]
    },
    {
      "cell_type": "code",
      "source": [
        "#Mother height independent x\n",
        "mh=np.array([58,62,60,64,67,70])\n",
        "#Daughter height dependent y\n",
        "dh=np.array([60,60,58,60,70,72])"
      ],
      "metadata": {
        "id": "qdP14vN32S9A"
      },
      "execution_count": 2,
      "outputs": []
    },
    {
      "cell_type": "code",
      "source": [
        "mh_mean=np.mean(mh)\n",
        "print(mh_mean)"
      ],
      "metadata": {
        "colab": {
          "base_uri": "https://localhost:8080/"
        },
        "id": "DWcMeOqg20_Q",
        "outputId": "0b0384e5-1040-4eb1-be00-80e411fd3317"
      },
      "execution_count": 3,
      "outputs": [
        {
          "output_type": "stream",
          "name": "stdout",
          "text": [
            "63.5\n"
          ]
        }
      ]
    },
    {
      "cell_type": "code",
      "source": [
        "dh_mean=np.mean(dh)\n",
        "print(dh_mean)"
      ],
      "metadata": {
        "colab": {
          "base_uri": "https://localhost:8080/"
        },
        "id": "sMIiuPOd314Q",
        "outputId": "ebc5d343-f2f6-41d5-b505-71f7ad8c34f6"
      },
      "execution_count": 4,
      "outputs": [
        {
          "output_type": "stream",
          "name": "stdout",
          "text": [
            "63.333333333333336\n"
          ]
        }
      ]
    },
    {
      "cell_type": "code",
      "source": [
        "def covarience(x,y):\n",
        " sum=0\n",
        " for i in range(len(x)):\n",
        "  sum+=((x[i]-np.mean(x))*(y[i]-np.mean(y)))\n",
        " return sum/(len(x)-1)"
      ],
      "metadata": {
        "id": "hC-zuh_V7fVO"
      },
      "execution_count": 5,
      "outputs": []
    },
    {
      "cell_type": "code",
      "source": [
        "covarience(mh,dh)"
      ],
      "metadata": {
        "colab": {
          "base_uri": "https://localhost:8080/"
        },
        "id": "2jAT4PSY70OO",
        "outputId": "4a9caf2d-100e-4be7-b0aa-fdc9e1c65010"
      },
      "execution_count": 6,
      "outputs": [
        {
          "output_type": "execute_result",
          "data": {
            "text/plain": [
              "24.0"
            ]
          },
          "metadata": {},
          "execution_count": 6
        }
      ]
    },
    {
      "cell_type": "code",
      "source": [
        "var=np.var(mh,ddof=1)\n",
        "print(var)"
      ],
      "metadata": {
        "colab": {
          "base_uri": "https://localhost:8080/"
        },
        "id": "FpvfLWpb4wHX",
        "outputId": "b797be5c-b0e6-41a9-e1c3-73c9646f5f9b"
      },
      "execution_count": 7,
      "outputs": [
        {
          "output_type": "stream",
          "name": "stdout",
          "text": [
            "19.9\n"
          ]
        }
      ]
    },
    {
      "cell_type": "code",
      "source": [
        "b=covarience(mh,dh)/var\n",
        "print(b)"
      ],
      "metadata": {
        "colab": {
          "base_uri": "https://localhost:8080/"
        },
        "id": "bRo0ZIQF46pe",
        "outputId": "ea89196f-e21f-4314-ac4a-e1f160e808ae"
      },
      "execution_count": 8,
      "outputs": [
        {
          "output_type": "stream",
          "name": "stdout",
          "text": [
            "1.206030150753769\n"
          ]
        }
      ]
    },
    {
      "cell_type": "code",
      "source": [
        "a=dh_mean-(b*mh_mean)\n",
        "print(a)"
      ],
      "metadata": {
        "colab": {
          "base_uri": "https://localhost:8080/"
        },
        "id": "4jYjsjKbBbWs",
        "outputId": "c9ca22b4-0ac4-43b4-95ed-a62096a7e44c"
      },
      "execution_count": 9,
      "outputs": [
        {
          "output_type": "stream",
          "name": "stdout",
          "text": [
            "-13.24958123953099\n"
          ]
        }
      ]
    },
    {
      "cell_type": "code",
      "source": [
        "\n",
        "y =a+b*mh\n",
        "plt.scatter(mh,dh)\n",
        "plt.plot(mh, y, '-g')\n",
        "plt.title('Graph of y=a+bx')\n",
        "plt.xlabel('Mother Height', color='#1C2833')\n",
        "plt.ylabel('Daughter Height', color='#1C2833')\n",
        "plt.grid()\n",
        "plt.show()"
      ],
      "metadata": {
        "colab": {
          "base_uri": "https://localhost:8080/",
          "height": 472
        },
        "id": "hg0dIVxUEItz",
        "outputId": "a2f77585-ea1c-4617-df46-76c9e80aa969"
      },
      "execution_count": 10,
      "outputs": [
        {
          "output_type": "display_data",
          "data": {
            "text/plain": [
              "<Figure size 640x480 with 1 Axes>"
            ],
            "image/png": "[encoded data removed]"
          },
          "metadata": {}
        }
      ]
    },
    {
      "cell_type": "code",
      "source": [
        "y=0\n",
        "for i in range(len(mh)):\n",
        "  y+=(a+(b*mh[i])-dh[i])\n",
        "y_intercept=y/len(mh)\n",
        "print(y_intercept)\n"
      ],
      "metadata": {
        "colab": {
          "base_uri": "https://localhost:8080/"
        },
        "id": "uN1xd4hyRN1m",
        "outputId": "0deedd84-6de8-44dc-84e1-bd255513b210"
      },
      "execution_count": 11,
      "outputs": [
        {
          "output_type": "stream",
          "name": "stdout",
          "text": [
            "9.473903143468002e-15\n"
          ]
        }
      ]
    },
    {
      "cell_type": "code",
      "source": [
        "y=0\n",
        "for i in range(len(mh)):\n",
        "  y+=(((a+b*mh[i])-dh[i])*mh[i])\n",
        "g_slope=y/len(mh)\n",
        "print(g_slope)"
      ],
      "metadata": {
        "colab": {
          "base_uri": "https://localhost:8080/"
        },
        "id": "WAtEqX87Vp8t",
        "outputId": "6eeff560-9d34-469c-8bd0-cb7ec3ae99e3"
      },
      "execution_count": 12,
      "outputs": [
        {
          "output_type": "stream",
          "name": "stdout",
          "text": [
            "6.205406558971541e-13\n"
          ]
        }
      ]
    },
    {
      "cell_type": "code",
      "source": [
        "y_intercept"
      ],
      "metadata": {
        "colab": {
          "base_uri": "https://localhost:8080/"
        },
        "id": "PhEka2ZGUzBv",
        "outputId": "6105c70d-bec2-4896-8410-21ff984ecfc1"
      },
      "execution_count": 14,
      "outputs": [
        {
          "output_type": "execute_result",
          "data": {
            "text/plain": [
              "9.473903143468002e-15"
            ]
          },
          "metadata": {},
          "execution_count": 14
        }
      ]
    },
    {
      "cell_type": "code",
      "source": [
        "aCurrent=100\n",
        "for i in range(100):\n",
        "  aNew=aCurrent-(0.001*y_intercept)\n",
        "  aCurrent=aNew\n",
        "  print(aNew)\n"
      ],
      "metadata": {
        "colab": {
          "base_uri": "https://localhost:8080/"
        },
        "id": "r8nImufMXLk2",
        "outputId": "d11197fa-639f-45e8-aa1d-5e2c1c318c7c"
      },
      "execution_count": 13,
      "outputs": [
        {
          "output_type": "stream",
          "name": "stdout",
          "text": [
            "100.0\n",
            "100.0\n",
            "100.0\n",
            "100.0\n",
            "100.0\n",
            "100.0\n",
            "100.0\n",
            "100.0\n",
            "100.0\n",
            "100.0\n",
            "100.0\n",
            "100.0\n",
            "100.0\n",
            "100.0\n",
            "100.0\n",
            "100.0\n",
            "100.0\n",
            "100.0\n",
            "100.0\n",
            "100.0\n",
            "100.0\n",
            "100.0\n",
            "100.0\n",
            "100.0\n",
            "100.0\n",
            "100.0\n",
            "100.0\n",
            "100.0\n",
            "100.0\n",
            "100.0\n",
            "100.0\n",
            "100.0\n",
            "100.0\n",
            "100.0\n",
            "100.0\n",
            "100.0\n",
            "100.0\n",
            "100.0\n",
            "100.0\n",
            "100.0\n",
            "100.0\n",
            "100.0\n",
            "100.0\n",
            "100.0\n",
            "100.0\n",
            "100.0\n",
            "100.0\n",
            "100.0\n",
            "100.0\n",
            "100.0\n",
            "100.0\n",
            "100.0\n",
            "100.0\n",
            "100.0\n",
            "100.0\n",
            "100.0\n",
            "100.0\n",
            "100.0\n",
            "100.0\n",
            "100.0\n",
            "100.0\n",
            "100.0\n",
            "100.0\n",
            "100.0\n",
            "100.0\n",
            "100.0\n",
            "100.0\n",
            "100.0\n",
            "100.0\n",
            "100.0\n",
            "100.0\n",
            "100.0\n",
            "100.0\n",
            "100.0\n",
            "100.0\n",
            "100.0\n",
            "100.0\n",
            "100.0\n",
            "100.0\n",
            "100.0\n",
            "100.0\n",
            "100.0\n",
            "100.0\n",
            "100.0\n",
            "100.0\n",
            "100.0\n",
            "100.0\n",
            "100.0\n",
            "100.0\n",
            "100.0\n",
            "100.0\n",
            "100.0\n",
            "100.0\n",
            "100.0\n",
            "100.0\n",
            "100.0\n",
            "100.0\n",
            "100.0\n",
            "100.0\n",
            "100.0\n"
          ]
        }
      ]
    }
  ]
}